{
 "cells": [
  {
   "cell_type": "markdown",
   "metadata": {},
   "source": [
    "# Plot multiple addresses on Google Maps\n",
    "\n",
    "This notebook shows how to take a list of addresses, clean them up a bit and them plot them all on googlemaps. This will them allow them to be visualised at the same time. As the GoogleMaps API will be used, the first goal will therefore be to have a lot of addresses in a form that can simply be passed into that API.\n",
    "\n",
    "For some basis data, I took the address of some colleges in Bavaria. I got this list of addresses by simply copying them from the following website: **[deutsch-werden.de](http://www.deutsch-werden.de/alle-volkshochschulen-deutschland-liste-vhs-adressen-kontaktdaten-fuer-einbuergerungstest-kurse \"Have a look at the dataon the website\")** and pasting them into a file called `raw_addresses`."
   ]
  },
  {
   "cell_type": "code",
   "execution_count": 1,
   "metadata": {
    "collapsed": true
   },
   "outputs": [],
   "source": [
    "import csv\n",
    "import itertools\n",
    "import json\n",
    "import gmplot as gm\n",
    "import geocoder"
   ]
  },
  {
   "cell_type": "markdown",
   "metadata": {},
   "source": [
    "## 1 - Preparing the data\n",
    "\n",
    "The first few addresses from the file `raw_addresses.txt` are shown below:"
   ]
  },
  {
   "cell_type": "code",
   "execution_count": 2,
   "metadata": {
    "collapsed": false
   },
   "outputs": [
    {
     "name": "stdout",
     "output_type": "stream",
     "text": [
      "Bayerischer Volkshochschulverband\r\n",
      "Fäustlestraße 5a\r\n",
      "80339 München\r\n",
      "T: 089 5027081\r\n",
      "F: 089 5027082\r\n",
      "bvv@vhs-bayern.de\r\n",
      "\r\n",
      "Volkshochschule Abensberg\r\n",
      "Stadtplatz 1\r\n",
      "93326 Abensberg\r\n",
      "Telefon: 09443 90105\r\n",
      "F: 09443 90106\r\n",
      "info@vhs-abensberg.de\r\n"
     ]
    }
   ],
   "source": [
    "! head -n 13 raw_addresses.txt"
   ]
  },
  {
   "cell_type": "markdown",
   "metadata": {},
   "source": [
    "---------------------"
   ]
  },
  {
   "cell_type": "markdown",
   "metadata": {},
   "source": [
    "Clearly this is not a nice form to pass to Google, with phone numbers, email addresses and the address spread over many lines. Let's clean them up..."
   ]
  },
  {
   "cell_type": "markdown",
   "metadata": {},
   "source": [
    "Define a function that works through the file of raw addresses. It does a few things:\n",
    "\n",
    "1. The try/except block itself catches the empty lines between single addresses and simple insers something to let us clearly separate the addresses.\n",
    "2. In the try/except block, the first `if` statement allows us to ignore lines that start with T: of F:, meaning the line holds the telephone or fax number, respectively.\n",
    "3. The next `elif` statement removes lines that contain more than five digits. German postal codes contain five digits - any more and it must be a phone number _(in the context of this data set)_\n",
    "4. The last `elif` state leaves out lines that contain the `@` symbol - so basically the lines with email addresses.\n",
    "5. If none of these conditions are met, then the line is assumed to be useful and we append it to a list containing lines to keep."
   ]
  },
  {
   "cell_type": "code",
   "execution_count": 3,
   "metadata": {
    "collapsed": false
   },
   "outputs": [],
   "source": [
    "def extract_addresses(file, fill_empty_line='NEXT_ADDRESS', verbose=True):\n",
    "    \"\"\"get the addresses of all the places\n",
    "    \n",
    "    file:             the path to the file with addresses\n",
    "    fill_empty_line:  a string to simply use as a placeholder for empty lines between addresses\n",
    "    \n",
    "    returns:          addresses in a list\n",
    "    \"\"\"\n",
    "\n",
    "    with open(file, 'r') as f:\n",
    "\n",
    "        file_reader = csv.reader(f)\n",
    "\n",
    "        lines_to_keep = []\n",
    "\n",
    "        for i, line in enumerate(file_reader):\n",
    "\n",
    "            try: # two checks to remove telephone/fax numbers\n",
    "                if line[0][0:2] == 'T:' or line[0][0:2] == 'F:':\n",
    "                    if verbose:\n",
    "                        print('skipped a T:/F: number')\n",
    "                    pass                       \n",
    "\n",
    "                elif sum(char.isnumeric() for char in line[0]) > 5:\n",
    "                    if verbose:\n",
    "                        print('skipped a telephone/fax number')\n",
    "                    pass\n",
    "\n",
    "                # skip any lines containing an email address\n",
    "                # assumes names and addresses do not contain the @ symbol\n",
    "                elif '@' in line[0]:\n",
    "                    if verbose:\n",
    "                        print('removed email address: {}'.format(line))\n",
    "\n",
    "                else:\n",
    "                    lines_to_keep.append(line)\n",
    "\n",
    "            except IndexError: # catch the empty lines between each address\n",
    "                lines_to_keep.append(['NEXT_ADDRESS'])\n",
    "            \n",
    "    return lines_to_keep"
   ]
  },
  {
   "cell_type": "code",
   "execution_count": 4,
   "metadata": {
    "collapsed": false
   },
   "outputs": [],
   "source": [
    "addresses = extract_addresses('./raw_addresses.txt', verbose=False)"
   ]
  },
  {
   "cell_type": "code",
   "execution_count": 5,
   "metadata": {
    "collapsed": true
   },
   "outputs": [],
   "source": [
    "# create a dictionary to hold all addresses, then append the lats and longs later\n",
    "address_book = {}\n",
    "\n",
    "# separate the address, using the default 'NEXT_ADDRESS' lines added inplace of empty lines above\n",
    "tmp = []\n",
    "counter = 1\n",
    "for line in addresses:\n",
    "    if line == ['NEXT_ADDRESS']:\n",
    "        chunk_addr = ', '.join([l[0] for l in tmp])\n",
    "        address_book[str(counter)] = chunk_addr\n",
    "        tmp = []\n",
    "        counter += 1\n",
    "    else:\n",
    "        #print('line = {}'.format(line))\n",
    "        tmp.append(line)"
   ]
  },
  {
   "cell_type": "code",
   "execution_count": 6,
   "metadata": {
    "collapsed": false
   },
   "outputs": [
    {
     "name": "stdout",
     "output_type": "stream",
     "text": [
      "Address 1: Bayerischer Volkshochschulverband, Fäustlestraße 5a, 80339 München\n",
      "Address 2: Volkshochschule Abensberg, Stadtplatz 1, 93326 Abensberg\n",
      "Address 3: Volkshochschule Landkreis Aichach-Friedberg, Steubstr. 3, 86551 Aichach\n",
      "Address 4: Volkshochschule Alt-Neuötting - Töging am Inn, Neuöttinger Str. 32, 84503 Altötting\n",
      "Address 5: Volkshochschule Amberg, Zeughausstr. 1a, 92224 Amberg\n"
     ]
    }
   ],
   "source": [
    "for k, v in address_book.items():\n",
    "    if int(k) <= 5:\n",
    "        print('Address {}: {}'.format(k, v))"
   ]
  },
  {
   "cell_type": "markdown",
   "metadata": {},
   "source": [
    "These look pretty good - the sort of thing you could use to search in Google Maps!\n",
    "Now have a look at all of the addresses to see if there are any patterns missed in the cleanup statements of the `extract_addresses` function."
   ]
  },
  {
   "cell_type": "code",
   "execution_count": 7,
   "metadata": {
    "collapsed": false
   },
   "outputs": [
    {
     "name": "stdout",
     "output_type": "stream",
     "text": [
      "Address 1: Bayerischer Volkshochschulverband, Fäustlestraße 5a, 80339 München\n",
      "Address 2: Volkshochschule Abensberg, Stadtplatz 1, 93326 Abensberg\n",
      "Address 3: Volkshochschule Landkreis Aichach-Friedberg, Steubstr. 3, 86551 Aichach\n",
      "Address 4: Volkshochschule Alt-Neuötting - Töging am Inn, Neuöttinger Str. 32, 84503 Altötting\n",
      "Address 5: Volkshochschule Amberg, Zeughausstr. 1a, 92224 Amberg\n",
      "Address 6: Volkshochschule Amberg-Sulzbach, Obere Gartenstraße 3, 92237 Sulzbach-Rosenberg\n",
      "Address 7: Volkshochschule Ammersee-Nordwest, Schulweg 2, 86919 Utting a. Ammersee\n",
      "Address 8: Volkshochschule Ansbach, Martin-Luther-Platz 1, 91522 Ansbach\n",
      "Address 9: Volkshochschule Ansbach Landkreis, Crailsheimstraße 1, 91522 Ansbach\n",
      "Address 10: Volkshochschule Arnstorf, Unterer Markt 12, 94424 Arnstorf\n",
      "Address 11: Volkshochschule Aschaffenburg, Luitpoldstr. 2, 63739 Aschaffenburg\n",
      "Address 12: Volkshochschule Augsburger Land e.V., Holbeinstraße 12, 86150 Augsburg\n",
      "Address 13: Volkshochschule Augsburg Stadt, Willy-Brandt-Platz 3a, 86153 Augsburg\n",
      "Address 14: Volkshochschule Bad Aibling, Heubergstr. 2, 83043 Bad Aibling\n",
      "Address 15: Volkshochschule Bad Kissingen, Postfach 2260, 97672 Bad Kissingen\n",
      "Address 16: Volkshochschule Bad Neustadt und Rhön-Saale, Alte Pfarrgasse 3, 97616 Bad Neustadt\n",
      "Address 17: Volkshochschule Bad Reichenhall, Aegidiplatz 3, 83435 Bad Reichenhall\n",
      "Address 18: Volkshochschule Bad Tölz, Am Schloßplatz 5, 83646 Bad Tölz\n",
      "Address 19: Volkshochschule Bamberg Land, Kaimsgasse 31, (Zugang über Parkdeck Landratamtes, 96052 Bamberg\n",
      "Address 20: Volkshochschule Bamberg Stadt, Tränkgasse 4, 96052 Bamberg\n",
      "Address 21: Volkshochschule Bürgerforum Bayreuth, Franken-Akademie Schloss Schney, Schloßplatz 8, 96215 Lichtenfels\n",
      "Address 22: Volkshochschule Bayreuth Landkreis, Markgrafenallee 5, 95448 Bayreuth\n",
      "Address 23: Volkshochschule Bayreuth Stadt, Richard-Wagner-Straße 21, 95444 Bayreuth\n",
      "Address 24: Volkshochschule Beilngries, Ringstraße 16, 92339 Beilngries\n",
      "Address 25: Volkshochschule Berchtesgaden, Rathausplatz 1, 83471 Berchtesgaden\n",
      "Address 26: Volkshochschule Biessenhofen, Füssener Straße 21, 87640 Biessenhofen\n",
      "Address 27: Volkshochschule Brannenburg-Raubling, Schulweg 2, 83098 Brannenburg\n",
      "Address 28: Volkshochschule Bruckmühl, Rathausplatz 1, 83052 Bruckmühl\n",
      "Address 29: Volkshochschule Buchloe, Bahnhofstraße 60, 86807 Buchloe\n",
      "Address 30: Volkshochschule Burg Rothenfels, Burg Rothenfels, 97851 Rothenfels am Main\n",
      "Address 31: Volkshochschule Burghausen-Burgkirchen, Marktler Straße 16, 84489 Burghausen\n",
      "Address 32: Volkshochschule Cadolzburg, Rathausplatz 1, 90556 Cadolzburg\n",
      "Address 33: Volkshochschule Cham, Pfarrer-Seidl-Str. 1, 93413 Cham / Opf.\n",
      "Address 34: Volkshochschule Chiemsee, Hochfellnstr. 16, 83209 Prien am Chiemsee\n",
      "Address 35: Volkshochschule Coburg Stadt u. Land, Löwenstr. 15, 96450 Coburg\n",
      "Address 36: Volkshochschule Dachau Land, Industriestrasse 14, 85229 Markt Indersdorf\n",
      "Address 37: Volkshochschule Dachau GmbH, Dr.-Engert-Str. 4, 85221 Dachau\n",
      "Address 38: Volkshochschule Deggendorf Land, Amanstr. 9-11, 94469 Deggendorf\n",
      "Address 39: Volkshochschule Diessen, Marktplatz 1, 86911 Diessen\n",
      "Address 40: Volkshochschule Dillingen, Königstr. 37/38, 89407 Dillingen / Donau\n",
      "Address 41: Volkshochschule Dingolfing, Stadionstr. 50, 84130 Dingolfing\n",
      "Address 42: Volkshochschule Donauwörth, Spindeltal 5, 86609 Donauwörth\n",
      "Address 43: Volkshochschule Ebern, Nikolaus-Fey-Straße 2, 96106 Ebern\n",
      "Address 44: Volkshochschule Eching, Roßbergerstr. 8, 85386 Eching\n",
      "Address 45: Volkshochschule Eggenfelden, Rathausplatz 1, 84307 Eggenfelden\n",
      "Address 46: Volkshochschule Eichstätt, Domplatz 8, 85072 Eichstätt\n",
      "Address 47: Volkshochschule Erlangen, Friedrichstr. 19–21, 91054 Erlangen\n",
      "Address 48: Volkshochschule Erlenbach a. Main, Bahnhofstr. 26, 63906 Erlenbach a. Main\n",
      "Address 49: Volkshochschule Eschenbach, Karlsplatz 29, 92676 Eschenbach\n",
      "Address 50: Volkshochschule Feldkirchen - Westerham, Ollinger Str. 10, 83620 Feldkirchen-Westerham\n",
      "Address 51: Volkshochschule Forchheim Landkreis, Hornschuchallee 20, 91301 Forchheim\n",
      "Address 52: Volkshochschule Freilassing, Münchener Str. 15, 83395 Freilassing\n",
      "Address 53: Volkshochschule Freising, Kammergasse 12, 85354 Freising\n",
      "Address 54: Volkshochschule Freyung - Grafenau Landkreis, Rathausgasse 1, 94481 Grafenau\n",
      "Address 55: Volkshochschule Fürstenfeldbruck, Niederbronner Weg 5, 82256 Fürstenfeldbruck\n",
      "Address 56: Volkshochschule Fürth, Hirschenstr. 27/29, 90762 Fürth\n",
      "Address 57: Volkshochschule Füssen, Kaiser-Maximilian-Platz 1, 87629 Füssen\n",
      "Address 58: Volkshochschule Garmisch-Partenkirchen, Burgstr. 21, 82467 Garmisch-Partenkirchen\n",
      "Address 59: Volkshochschule Germering, Therese-Giehse-Platz 6, 82110 Germering\n",
      "Address 60: Volkshochschule Gerolzhofen, Spitalstr. 10, 97447 Gerolzhofen\n",
      "Address 61: Volkshochschule Gilching-Argelsried, Römerstr. 17, 82205 Gilching\n",
      "Address 62: Volkshochschule Gröbenzell, Rathausstr. 1, 82194 Gröbenzell\n",
      "Address 63: Volkshochschule Gundelfingen, Pr.-Bamann-Str. 22, 89423 Gundelfingen/Donau\n",
      "Address 64: Volkshochschule Günzburg, Haus der Bildung, Bgm.-Landmann-Platz 2, 89312 Günzburg\n",
      "Address 65: Volkshochschule Gunzenhausen, Dr. Martin-Luther-Platz 4, 91710 Gunzenhausen\n",
      "Address 66: Volkshochschule Haar, Jagdfeldring 80, 85540 Haar\n",
      "Address 67: Volkshochschule Hammelburg - Bad Brückenau, Kirchgasse 4, 97762 Hammelburg\n",
      "Address 68: Volkshochschule Haßberge Landkreis, Hofheimer Straße 20, 97437 Haßfurt\n",
      "Address 69: Volksbildungswerk Haßfurt, Ringstr. 16, 97437 Haßfurt\n",
      "Address 70: Volkshochschule Herrsching, Scheuermannstr. 3, 82211 Herrsching\n",
      "Address 71: Volkshochschule Hersbrucker Land, Unterer Markt 1, 91217 Hersbruck\n",
      "Address 72: Volkshochschule Herzogenaurach, Badgasse 4, 91074 Herzogenaurach\n",
      "Address 73: Volkshochschule Höchstadt-Aisch, Marktplatz 5, 91315 Höchstadt/Aisch\n",
      "Address 74: Volkshochschule Hof Landkreis, Königstraße 22, 95028 Hof\n",
      "Address 75: Volkshochschule Hof, Konrad-Adenauer-Platz 1, 95028 Hof\n",
      "Address 76: Volkshochschule Ingolstadt, Hallstr. 5, 85049 Ingolstadt\n",
      "Address 77: Volkshochschule Kahl-Alzenau-Karlstein, Spessartstr. 7, 63796 Kahl a. Main\n",
      "Address 78: Volkshochschule Kahlgrund-Spessart, Kirchstr. 3, 63776 Mömbris\n",
      "Address 79: Volkshochschule Karlsfeld, Krenmoosstr. 46, 85757 Karlsfeld\n",
      "Address 80: Volkshochschule Karlstadt-Arnstein, Langgasse 17, 97753 Karlstadt\n",
      "Address 81: Volkshochschule Kaufbeuren, Spitaltor 5, 87600 Kaufbeuren\n",
      "Address 82: Volkshochschule Kaufering, Albert-Schweitzer-Str. 4a, 86916 Kaufering\n",
      "Address 83: Volkshochschule Kempten, Bodmanstr. 2, 87435 Kempten\n",
      "Address 84: Volkshochschule Kitzingen, Hindenburgring Süd 3, 97318 Kitzingen\n",
      "Address 85: Volkshochschule Kolbermoor, Rosenheimer Str. 8, 83059 Kolbermoor\n",
      "Address 86: Volkshochschule Königsberg, Alleestr. 1, 97486 Königsberg\n",
      "Address 87: Volkshochschule Kronach, Kulmbacher Str. 1, 96317 Kronach\n",
      "Address 88: Volkshochschule Krumbach, Nattenhauser Straße 5, 86381 Krumbach (Schwaben)\n",
      "Address 89: Volkshochschule Kulmbach, Bauergasse 4, 95326 Kulmbach\n",
      "Address 90: Kreis - Volkshochschule Landau a. d. Isar, Fleischgasse 60, 94405 Landau/ Isar\n",
      "Address 91: Volkshochschule Landsberg, Hauptplatz 1, 86899 Landsberg am Lech\n",
      "Address 92: Volkshochschule Landshut, Obere Länd 41, 84028 Landshut\n",
      "Address 93: Volkshochschule Langenzenn, An der Bleiche 16, 90579 Langenzenn\n",
      "Address 94: Volkshochschule Laufen, Rottmayrstr. 16, 83410 Laufen\n",
      "Address 95: Volkshochschule Lauingen, Herzog-Georg-Str. 17, 89415 Lauingen\n",
      "Address 96: Volkshochschule Lichtenfels Landkreis, Coburger Str. 54, 96215 Lichtenfels\n",
      "Address 97: Volkshochschule Lindau, BAG Schwaben, Uferweg 7, 88131 Lindau\n",
      "Address 98: Volkshochschule Lindenberg, Rathausstr. 10, 88161 Lindenberg/Allgäu\n",
      "Address 99: Volkshochschule Lohr-Gemünden, Marktplatz 1, 97816 Lohr a. Main\n",
      "Address 100: Volkshochschule Mainburg, Mitterweg 8, 84048 Mainburg\n",
      "Address 101: Volkshochschule Marktheidenfeld, Marktplatz 24, 97828 Marktheidenfeld\n",
      "Address 102: Volkshochschule Marktoberdorf, Salzstr. 10, 87616 Marktoberdorf\n",
      "Address 103: Volkshochschule Marktredwitz, Fikentscherstr. 19, 95615 Marktredwitz\n",
      "Address 104: Volkshochschule Markt Indersdorf, Marienplatz 1-3, 85229 Markt Indersdorf\n",
      "Address 105: Volkshochschule Memmingen, Ulmer Str. 19, 87700 Memmingen\n",
      "Address 106: Volkshochschule Miltenberg, Engelplatz 67, 63897 Miltenberg\n",
      "Address 107: Volkshochschule Moosburg, Fronängerstr. 6, 85368 Moosburg\n",
      "Address 108: Volkshochschule Mühldorf, Schlörstraße 1, 84453 Mühldorfam Inn\n",
      "Address 109: Volkshochschule München, Kellerstr. 6, 81667 München\n",
      "Address 110: vhs SüdOst im Landkreis München, Rathausplatz 2, 85521 Ottobrunn\n",
      "Address 111: Volkshochschule Murnau, Seidlstr. 14, 82418 Murnau\n",
      "Address 112: Volkshochschule Neu-Ulm Landkreis, Josef-Forster-Str. 2a, 89257 Illertissen-Au\n",
      "Address 113: Volkshochschule Neuburg-Donau, Franziskanerstraße B 200, 86633 Neuburg a. d. Donau\n",
      "Address 114: Volkshochschule Neufahrn, Bahnhofstr. 32, 85375 Neufahrn\n",
      "Address 115: Volkshochschule Neumarkt i. d. Opf., Gartenstr. 1, 92318 Neumarkt/ Opf\n",
      "Address 116: Volkshochschule Neustadt a. d. Donau, Herzog-Ludwig-Str. 19, 93333 Neustadt a. d. Donau\n",
      "Address 117: Kreis - Volkshochschule Neustadt a. d. Aisch, Konrad-Adenauer-Str. 1, 91413 Neustadt / Aisch\n",
      "Address 118: Volkshochschule Nördlingen, Marktplatz 1, 86720 Nördlingen\n",
      "Address 119: Bildungszentrum Nürnberg (vhs), Gewerbemuseumsplatz 1, 90403 Nürnberg\n",
      "Address 120: Volkshochschule Oberallgäu, Sonnenstr. 6, 87527 Sonthofen / Oberallgäu\n",
      "Address 121: Volkshochschule Oberasbach, Rathausplatz 1, 90522 Oberasbach\n",
      "Address 122: Volkshochschule Oberhaching, Kastanienallee 18, 82041 Oberhaching\n",
      "Address 123: Volkshochschule Oberschleißheim, Theodor-Heuss-Str. 27, 85764 Oberschleißheim\n",
      "Address 124: Volkshochschule Ochsenfurt, Kirchplatz 2, 97199 Ochsenfurt\n",
      "Address 125: Volkshochschule Oettingen, Schlossstr. 5, 86732 Oettingen\n",
      "Address 126: Volkshochschule Olching, Hauptstr. 73, 82140 Olching\n",
      "Address 127: Zweckverband Volkshochschule Passau, Nikolastr. 18, 94032 Passau\n",
      "Address 128: Volkshochschule Peißenberg, Schongauer Str. 2, 82380 Peißenberg\n",
      "Address 129: Volkshochschule Penzberg, Karlstr. 27, 82377 Penzberg\n",
      "Address 130: Volkshochschule Pfaffenhofen a. d. Ilm, Ingolstädter Str. 3, 85276 Pfaffenhofen\n",
      "Address 131: Volkshochschule Puchheim, Am Grünen Markt 7, 82178 Puchheim\n",
      "Address 132: Volkshochschule Pullach, Johann-Bader-Str. 21, 82049 Pullach i. Isartal\n",
      "Address 133: Volkshochschule Regen, Amtsgerichtstr. 6-8, 94209 Regen\n",
      "Address 134: Volkshochschule Bildungszentrum Regen, Amtsgerichtstrasse 6 - 8, 94209 Regen\n",
      "Address 135: Volkshochschule Regensburg Landkreis, Regengasse 2, 93138 Lappersdorf\n",
      "Address 136: Volkshochschule Regensburg Stadt, Haidplatz 8, 93047 Regensburg\n",
      "Address 137: Volkshochschule Rhön und Grabfeld, Marktplatz 2, 97638 Mellrichstadt\n",
      "Address 138: Volkshochschule Rosenheim, Stollstraße 1, 83022 Rosenheim\n",
      "Address 139: Volkshochschule Roßtal, Rathausgasse 2, 90574 Roßtal\n",
      "Address 140: Volkshochschule Roth Landkreis, Maria-Dorothea-Str. 8, 91161 Hilpoltstein\n",
      "Address 141: Volkshochschule Roth, Seckendorffschloss, Hilpoltsteiner Str. 2a, 91154 Roth\n",
      "Address 142: Volkshochschule Röthenbach, Talgasse 2, 90552 Röthenbach\n",
      "Address 143: vhs-Bildungszentrum Sambachshof, Sambachshof, 97631 Bad Königshofen i. Gr.\n",
      "Address 144: Volkshochschule Sauerlach, Bahnhofstr. 5, 82054 Sauerlach\n",
      "Address 145: Volkshochschule Schongau, Christophstr. 53-57, 86956 Schongau\n",
      "Address 146: Volkshochschule Schrobenhausen, Lenbachstr. 22, 86529 Schrobenhausen\n",
      "Address 147: Volkshochschule Schwabach, Königsplatz 29a, 91126 Schwabach\n",
      "Address 148: Volkshochschule Schwabenakademie-Irsee, Klosterring 4, 87660 Irsee\n",
      "Address 149: Volkshochschule Schwandorf Landkreis, Brauhausstr. 9, 92421 Schwandorf\n",
      "Address 150: Volkshochschule Schwarzachtal, Penzenhofener Str. 1, 90610 Winkelhaid\n",
      "Address 151: Volkshochschule Schweinfurt, Markt 1, 97421 Schweinfurt\n",
      "Address 152: Volkshochschule der Stadt Selb, Lessingstr. 8, 95100 Selb\n",
      "Address 153: Volkshochschule im Städtedreieck, Bahnhofstraße 44, 93142 Maxhütte-Haidhof\n",
      "Address 154: Volkshochschule Starnberger See, Bahnhofplatz 14, 82319 Starnberg\n",
      "Address 155: Volkshochschule Stein, Mühlstr. 1, 90547 Stein\n",
      "Address 156: Volkshochschule Straubing, Schulgasse 22, 94315 Straubing\n",
      "Address 157: Volkshochschule Straubing -Bogen, Klosterhof 1, 94327 Bogen\n",
      "Address 158: Volkshochschule Taufkirchen, Ahornring 121, 82024 Taufkirchen\n",
      "Address 159: Volkshochschule des Landkreises Tirschenreuth, Mähringer Straße 9, 95643 Tirschenreuth\n",
      "Address 160: Volkshochschule Traunreut, Marienstr. 20, 83301 Traunreut\n",
      "Address 161: Volkshochschule Traunstein, Stadtplatz 38a, 83278 Traunstein\n",
      "Address 162: Volkshochschule Trostberg, Heinrich-Braun-Str. 6, 83308 Trostberg\n",
      "Address 163: Volkshochschule Unteres Altmühltal, c/o Postfach 106, 93337 Riedenburg\n",
      "Address 164: Volkshochschule Unterhaching, Jahnstr. 1, 82008 Unterhaching\n",
      "Address 165: Volkshochschule Vaterstetten, Wendelsteinstr. 10, 85591 Vaterstetten\n",
      "Address 166: Volkshochschule Veitsbronn, Nürnberger Str. 2, 90587 Veitsbronn\n",
      "Address 167: Volkshochschule Vilsbiburg, Stadtplatz 30, 84137 Vilsbiburg\n",
      "Address 168: Volkshochschule Vohenstrauß, Wernberger Str. 12, 92648 Vohenstrauß\n",
      "Address 169: Volkshochschule Volkach, Bahnhofstr. 5, 97332 Volkach\n",
      "Address 170: Volkshochschule Waging am See, Zwieselstr. 1, 83329 Waging am See\n",
      "Address 171: Volkshochschule Waldkraiburg, Am Kalander 1, 84478 Waldkraiburg\n",
      "Address 172: Volkshochschule Waldmünchen, Marktplatz 14, 93449 Waldmünchen\n",
      "Address 173: Volkshochschule Wasserburg, Salzburger Str. 19, 83512 Wasserburg am Inn\n",
      "Address 174: Volkshochschule Weiden i. d. Opf., Sedanstr. 13, 92637 Weiden / Opf.\n",
      "Address 175: Volkshochschule Weilheim, Mittlerer Graben 9, 82362 Weilheim\n",
      "Address 176: Volkshochschule Weißenburg, Holzgasse 80, 91781 Weißenburg\n",
      "Address 177: Volkshochschule Wolfratshausen, Untermarkt 2, 82515 Wolfratshausen\n",
      "Address 178: Kreisvolkshochschule im Landkreis Wunsiedel i.F., Marktplatz 6, 95632 Wunsiedel\n",
      "Address 179: Volkshochschule im Würmtal, Josef-von-Hirsch-Str. 3, 82152 Planegg / Würmtal\n",
      "Address 180: Volkshochschule Würzburg, Münzstr. 1, 97070 Würzburg\n",
      "Address 181: Volkshochschule Zirndorf, Schulstr. 4, 90513 Zirndorf\n"
     ]
    }
   ],
   "source": [
    "for k, v in address_book.items():\n",
    "    print('Address {}: {}'.format(k, v))"
   ]
  },
  {
   "cell_type": "markdown",
   "metadata": {},
   "source": [
    "There are a few strange looking things - two empty lines (printed as \"Address 24\" and \"Address 154\"). This can be explained by having a look at the input file: `raw_addresses.txt`. \n",
    "\n",
    "<img src=\"empty_line.png\",width=350,height=150>\n",
    "\n",
    "It is clear that there is as unexpected empty line between the main address and the email address of the college. We could adjust our function above to cover this issue, but it is better to be pragmatic here and simply remove the line in the input data.\n",
    "\n",
    "After removing that line, rerun the code above and save the dictionary of addresses in JSON format, as it is nice a clean for a dictionary, which is pretty much of the same format."
   ]
  },
  {
   "cell_type": "code",
   "execution_count": 8,
   "metadata": {
    "collapsed": true
   },
   "outputs": [],
   "source": [
    "with open('address_book.json', 'w') as target:\n",
    "    json.dump(address_book, target)\n",
    "    \n",
    "# we can read this back into a python dictionary using:\n",
    "with open('address_book.json', 'r') as source:\n",
    "    poop = json.load(source)"
   ]
  },
  {
   "cell_type": "code",
   "execution_count": 9,
   "metadata": {
    "collapsed": false
   },
   "outputs": [
    {
     "data": {
      "text/plain": [
       "True"
      ]
     },
     "execution_count": 9,
     "metadata": {},
     "output_type": "execute_result"
    }
   ],
   "source": [
    "# Check that the two are identical\n",
    "address_book == poop"
   ]
  },
  {
   "cell_type": "markdown",
   "metadata": {},
   "source": [
    "## 2 - Retrieving lattitudes and longitudes\n",
    "\n",
    "Now we can use the dictionary of addresses to create plots, but using the `gmplot` package, it will first be necessary to convert our addresses above into lattitude-longitude cordinates. We can do this by using another great package called [`geocoder`](https://github.com/DenisCarriere/geocoder \"Go to the GitHub page\").\n",
    "\n",
    "Reading the documentation of [`gmplot`](https://pypi.python.org/pypi/gmplot/1.0.5 \"Read the docs\"), it seems we can use a scatter plot or heatmap to show many results on a single map nicely. For this, we need a list of lattitures and a list of longitudes. Lets create this using the address book and the `geocoder` package."
   ]
  },
  {
   "cell_type": "code",
   "execution_count": 8,
   "metadata": {
    "collapsed": false
   },
   "outputs": [],
   "source": [
    "addr_list = list(address_book.values())\n",
    "\n",
    "lattitudes = []\n",
    "longitudes = []\n",
    "\n",
    "for addr in addr_list:\n",
    "    coords = geocoder.google(addr)\n",
    "    lattitudes.append(coords.lat)\n",
    "    longitudes.append(coords.lng)"
   ]
  },
  {
   "cell_type": "code",
   "execution_count": 9,
   "metadata": {
    "collapsed": false,
    "scrolled": true
   },
   "outputs": [
    {
     "data": {
      "text/plain": [
       "[48.1388329,\n",
       " None,\n",
       " 48.45919500000001,\n",
       " 48.229024,\n",
       " 49.4438699,\n",
       " 49.50392369999999,\n",
       " 48.02702,\n",
       " 49.3026819,\n",
       " 49.3026819,\n",
       " 48.56262,\n",
       " 49.975957,\n",
       " None,\n",
       " 48.36532,\n",
       " 47.85574,\n",
       " 50.2016628,\n",
       " 50.3234946,\n",
       " 47.72318139999999,\n",
       " 47.76026,\n",
       " 49.8990318,\n",
       " 49.89620439999999,\n",
       " 50.164226,\n",
       " None,\n",
       " None,\n",
       " 49.03433,\n",
       " 47.63439,\n",
       " 47.82863,\n",
       " None,\n",
       " None,\n",
       " None,\n",
       " 49.8919242,\n",
       " 48.16936159999999,\n",
       " 49.4592152,\n",
       " 49.2262189,\n",
       " 47.85175,\n",
       " 50.26074440000001,\n",
       " 48.35026,\n",
       " 48.25499629999999,\n",
       " 48.83679,\n",
       " 47.9487248,\n",
       " 48.56975569999999,\n",
       " None,\n",
       " 48.7201124,\n",
       " None,\n",
       " None,\n",
       " 48.40137,\n",
       " None,\n",
       " None,\n",
       " 49.80292,\n",
       " None,\n",
       " None,\n",
       " 49.7199885,\n",
       " 47.8420626,\n",
       " 48.40301969999999,\n",
       " 48.8561633,\n",
       " 48.1788344,\n",
       " 49.4746854,\n",
       " 47.56991,\n",
       " None,\n",
       " None,\n",
       " 49.9002,\n",
       " None,\n",
       " 48.19359,\n",
       " None,\n",
       " 48.454779,\n",
       " 49.11590340000001,\n",
       " 48.10722,\n",
       " 50.114788,\n",
       " 50.03565390000001,\n",
       " 50.0303146,\n",
       " 47.99777,\n",
       " 49.51061,\n",
       " 49.568087,\n",
       " None,\n",
       " 50.31054810000001,\n",
       " 50.31926,\n",
       " 48.76391530000001,\n",
       " 50.0750904,\n",
       " 50.0677574,\n",
       " 48.22713,\n",
       " 49.96232,\n",
       " 47.88149139999999,\n",
       " 48.0892875,\n",
       " 47.725663,\n",
       " 49.73534979999999,\n",
       " 47.8494711,\n",
       " 50.0797,\n",
       " 50.23722000000001,\n",
       " 48.2418418,\n",
       " 50.105767,\n",
       " 48.6709404,\n",
       " 48.0483516,\n",
       " 48.53369,\n",
       " 49.493761,\n",
       " 47.94082,\n",
       " 48.57075769999999,\n",
       " 50.1480361,\n",
       " 47.54607,\n",
       " 47.60093,\n",
       " 49.9953583,\n",
       " 48.64176,\n",
       " 49.84478960000001,\n",
       " 47.7776915,\n",
       " None,\n",
       " 48.35767999999999,\n",
       " 47.9884084,\n",
       " 49.701165,\n",
       " 48.4682776,\n",
       " 48.25589,\n",
       " 48.1316603,\n",
       " None,\n",
       " 47.67306,\n",
       " 48.2200622,\n",
       " 48.73406,\n",
       " 48.3171243,\n",
       " 49.2766228,\n",
       " 48.809096,\n",
       " 49.5726501,\n",
       " 48.8515331,\n",
       " 49.4519044,\n",
       " 47.512269,\n",
       " 49.4427246,\n",
       " 48.03024809999999,\n",
       " 48.25833739999999,\n",
       " 49.6640182,\n",
       " 48.95408,\n",
       " 48.20371000000001,\n",
       " 48.57183999999999,\n",
       " 47.7990071,\n",
       " 47.7507163,\n",
       " 48.53013,\n",
       " 48.1710074,\n",
       " 48.054781,\n",
       " 48.97229,\n",
       " 48.97229,\n",
       " 49.01997,\n",
       " 49.01997,\n",
       " 50.42861,\n",
       " None,\n",
       " 49.4746854,\n",
       " 49.18912,\n",
       " 49.24534,\n",
       " 49.48403589999999,\n",
       " 50.2453963,\n",
       " None,\n",
       " 47.8125011,\n",
       " 48.5619904,\n",
       " 49.3283481,\n",
       " 47.90985999999999,\n",
       " 49.331278,\n",
       " 49.3879027,\n",
       " 50.0447114,\n",
       " 50.17200829999999,\n",
       " 49.1985482,\n",
       " 47.99603,\n",
       " 49.4128777,\n",
       " 48.87054819999999,\n",
       " 48.87054819999999,\n",
       " 48.047964,\n",
       " 49.88083,\n",
       " 47.96147,\n",
       " 47.8691951,\n",
       " 48.02491999999999,\n",
       " 48.96237319999999,\n",
       " 48.06214,\n",
       " 48.11128,\n",
       " 49.4746854,\n",
       " 48.4512432,\n",
       " 49.62025999999999,\n",
       " 49.86564,\n",
       " 47.9361,\n",
       " 48.206149,\n",
       " 49.37782170000001,\n",
       " 48.05425,\n",
       " 49.6780521,\n",
       " 47.8394112,\n",
       " 49.0313627,\n",
       " 47.9142244,\n",
       " 50.0374072,\n",
       " None,\n",
       " 49.7886636,\n",
       " 49.4427246]"
      ]
     },
     "execution_count": 9,
     "metadata": {},
     "output_type": "execute_result"
    }
   ],
   "source": [
    "# have a peek at the lattitudes\n",
    "lattitudes"
   ]
  },
  {
   "cell_type": "code",
   "execution_count": 10,
   "metadata": {
    "collapsed": false
   },
   "outputs": [
    {
     "data": {
      "text/plain": [
       "[11.5390872,\n",
       " None,\n",
       " 11.129734,\n",
       " 12.6796216,\n",
       " 11.8583805,\n",
       " 11.7471154,\n",
       " 11.08919,\n",
       " 10.5722592,\n",
       " 10.5722592,\n",
       " 12.81616,\n",
       " 9.144433,\n",
       " None,\n",
       " 10.90461,\n",
       " 12.00442,\n",
       " 10.0753922,\n",
       " 10.2158824,\n",
       " 12.8770748,\n",
       " 11.5625,\n",
       " 10.8996666,\n",
       " 10.8930328,\n",
       " 11.075237,\n",
       " None,\n",
       " None,\n",
       " 11.47062,\n",
       " 13.0035,\n",
       " 10.64204,\n",
       " None,\n",
       " None,\n",
       " None,\n",
       " 9.589843,\n",
       " 12.8313118,\n",
       " 10.8563626,\n",
       " 12.6574303,\n",
       " 12.34756,\n",
       " 10.9621527,\n",
       " 11.37745,\n",
       " 11.4381907,\n",
       " 12.9623699,\n",
       " 11.1035164,\n",
       " 10.5234843,\n",
       " None,\n",
       " 10.7798867,\n",
       " None,\n",
       " None,\n",
       " 12.76142,\n",
       " None,\n",
       " None,\n",
       " 9.1569,\n",
       " None,\n",
       " None,\n",
       " 11.0598739,\n",
       " 12.977001,\n",
       " 11.7444365,\n",
       " 13.3846951,\n",
       " 11.2577203,\n",
       " 10.9874951,\n",
       " 10.70083,\n",
       " None,\n",
       " None,\n",
       " 10.35001,\n",
       " None,\n",
       " 11.37079,\n",
       " None,\n",
       " 10.27904,\n",
       " 10.7552183,\n",
       " 11.72421,\n",
       " 9.890392300000002,\n",
       " 10.5149789,\n",
       " 10.5038115,\n",
       " 11.17485,\n",
       " 11.43285,\n",
       " 10.881424,\n",
       " None,\n",
       " 11.9219963,\n",
       " 11.9136101,\n",
       " 11.4279717,\n",
       " 9.004652499999999,\n",
       " 9.1653878,\n",
       " 11.47781,\n",
       " 9.766375199999999,\n",
       " 10.6233135,\n",
       " 10.8524753,\n",
       " 10.311323,\n",
       " 10.1621592,\n",
       " 12.0690283,\n",
       " 10.56626,\n",
       " 11.3257,\n",
       " 10.3591287,\n",
       " 11.4581636,\n",
       " 12.6918978,\n",
       " 10.8763936,\n",
       " 12.14961,\n",
       " 10.795302,\n",
       " 12.93695,\n",
       " 10.4311279,\n",
       " 11.0721212,\n",
       " 9.67643,\n",
       " 9.884879999999999,\n",
       " 9.569907899999999,\n",
       " 11.77682,\n",
       " 9.6004617,\n",
       " 10.6197798,\n",
       " None,\n",
       " 11.38326,\n",
       " 10.1797879,\n",
       " 9.2580951,\n",
       " 11.9357175,\n",
       " 12.52711,\n",
       " 11.5918414,\n",
       " None,\n",
       " 11.2025,\n",
       " 10.1015851,\n",
       " 11.17904,\n",
       " 11.6624081,\n",
       " 11.4577211,\n",
       " 11.762925,\n",
       " 10.6098701,\n",
       " 10.4885404,\n",
       " 11.0839261,\n",
       " 10.2908478,\n",
       " 10.9571592,\n",
       " 11.5830906,\n",
       " 11.5480316,\n",
       " 10.0633324,\n",
       " 10.60474,\n",
       " 11.32413,\n",
       " 13.4602401,\n",
       " 11.0621787,\n",
       " 11.3785513,\n",
       " 11.50595,\n",
       " 11.3518462,\n",
       " 11.520464,\n",
       " 13.12772,\n",
       " 13.12772,\n",
       " 12.09316,\n",
       " 12.09316,\n",
       " 10.3022,\n",
       " None,\n",
       " 10.9874951,\n",
       " 11.19422,\n",
       " 11.09254,\n",
       " 11.2385767,\n",
       " 10.4597339,\n",
       " None,\n",
       " 10.8968288,\n",
       " 11.2645184,\n",
       " 11.0202358,\n",
       " 10.5750101,\n",
       " 12.1081859,\n",
       " 11.3028456,\n",
       " 10.2349536,\n",
       " 12.1298761,\n",
       " 12.0934039,\n",
       " 11.3407799,\n",
       " 11.010895,\n",
       " 12.5830728,\n",
       " 12.5830728,\n",
       " 11.599073,\n",
       " 12.34216,\n",
       " 12.58849,\n",
       " 12.6475881,\n",
       " 12.55264,\n",
       " 11.6906449,\n",
       " 11.6137,\n",
       " 11.77829,\n",
       " 10.9874951,\n",
       " 12.3552685,\n",
       " 12.3421,\n",
       " 10.2257701,\n",
       " 12.73854,\n",
       " 12.3994225,\n",
       " 12.7069325,\n",
       " 12.23054,\n",
       " 12.1643024,\n",
       " 11.1435556,\n",
       " 10.9701364,\n",
       " 11.4209167,\n",
       " 12.0024855,\n",
       " None,\n",
       " 9.9325966,\n",
       " 10.9571592]"
      ]
     },
     "execution_count": 10,
     "metadata": {},
     "output_type": "execute_result"
    }
   ],
   "source": [
    "# have a peek at the longitudes\n",
    "longitudes"
   ]
  },
  {
   "cell_type": "markdown",
   "metadata": {},
   "source": [
    "There are some missing values - I assume it is because Google was find those locations. We can check how many of these cases there were and possibly just remove them if there weren't many. Another alternative would be to clean up the addresses again so that Google gets a higher success rate at returning the coordinates.'"
   ]
  },
  {
   "cell_type": "code",
   "execution_count": 11,
   "metadata": {
    "collapsed": false
   },
   "outputs": [
    {
     "name": "stdout",
     "output_type": "stream",
     "text": [
      "Number of failed addresses:    24\n",
      "Number of fails as percentage: 13.3%\n"
     ]
    }
   ],
   "source": [
    "count = 0\n",
    "\n",
    "for i, j in zip(lattitudes, longitudes):\n",
    "    if i == j == None:\n",
    "        count += 1\n",
    "    \n",
    "print('Number of failed addresses:    {}'.format(count))\n",
    "print('Number of fails as percentage: {:.1f}%'.format(count / len(lattitudes) * 100))"
   ]
  },
  {
   "cell_type": "markdown",
   "metadata": {},
   "source": [
    "Let's just remove the missing pairs (**None** values), then check it worked as expeceted by running the same code from above to check the number of None values in the lists"
   ]
  },
  {
   "cell_type": "code",
   "execution_count": 12,
   "metadata": {
    "collapsed": false
   },
   "outputs": [
    {
     "name": "stdout",
     "output_type": "stream",
     "text": [
      "Number of failed addresses:    6\n",
      "Number of fails as percentage: 3.7%\n"
     ]
    }
   ],
   "source": [
    "for i, (lat, lng) in enumerate(zip(lattitudes, longitudes)):\n",
    "    if lat == lng == None:\n",
    "        del lattitudes[i]\n",
    "        del longitudes[i]\n",
    "        \n",
    "count = 0\n",
    "\n",
    "for i, j in zip(lattitudes, longitudes):\n",
    "    if i == j == None:\n",
    "        count += 1\n",
    "    \n",
    "print('Number of failed addresses:    {}'.format(count))\n",
    "print('Number of fails as percentage: {:.1f}%'.format(count / len(lattitudes) * 100))"
   ]
  },
  {
   "cell_type": "markdown",
   "metadata": {},
   "source": [
    "Lets append the lattitudes and longitudes to the address book and save it, overwriting the first save earlier on..."
   ]
  },
  {
   "cell_type": "code",
   "execution_count": 13,
   "metadata": {
    "collapsed": false
   },
   "outputs": [],
   "source": [
    "address_book['lattitudes'] = lattitudes\n",
    "address_book['longitudes'] = longitudes\n",
    "\n",
    "with open('address_book.json', 'w') as target:\n",
    "    json.dump(address_book, target)"
   ]
  },
  {
   "cell_type": "markdown",
   "metadata": {},
   "source": [
    "## Plotting the maps"
   ]
  },
  {
   "cell_type": "markdown",
   "metadata": {},
   "source": [
    "Now we have the lattitudes and longitudes in lists, we can plot them using the `gmplot` package..."
   ]
  },
  {
   "cell_type": "code",
   "execution_count": 15,
   "metadata": {
    "collapsed": false
   },
   "outputs": [],
   "source": [
    "gmap = gm.GoogleMapPlotter(lattitudes[0], longitudes[0], zoom=8)\n",
    "gmap.scatter(lattitudes[1:], longitudes[1:], color='r', marker=True)\n",
    "\n",
    "gmap.draw('addresses_on_map.html')"
   ]
  },
  {
   "cell_type": "markdown",
   "metadata": {},
   "source": [
    "Now we just need to open the final html to see the addresses on the map!\n",
    "\n",
    "On a linux system, the following should work..."
   ]
  },
  {
   "cell_type": "code",
   "execution_count": 16,
   "metadata": {
    "collapsed": false
   },
   "outputs": [
    {
     "name": "stdout",
     "output_type": "stream",
     "text": [
      "[5539:5573:0617/110155.857705:ERROR:browser_gpu_channel_host_factory.cc(103)] Failed to launch GPU process.\r\n",
      "Created new window in existing browser session.\r\n"
     ]
    }
   ],
   "source": [
    "! sensible-browser addresses_on_map.html"
   ]
  },
  {
   "cell_type": "markdown",
   "metadata": {},
   "source": [
    "The resulting html page is fully interactive (you can zoom and pan) and looks like this:\n",
    "\n",
    "<img src=\"addresses_on_map_redpin.png\",width=800,height=800>"
   ]
  },
  {
   "cell_type": "markdown",
   "metadata": {},
   "source": [
    "We can also try the **heatmap** for the fun of it..."
   ]
  },
  {
   "cell_type": "code",
   "execution_count": 17,
   "metadata": {
    "collapsed": false
   },
   "outputs": [],
   "source": [
    "gmap_heatmap = gm.GoogleMapPlotter(lattitudes[0], longitudes[0], zoom=8)\n",
    "gmap_heatmap.heatmap(lattitudes[1:], longitudes[1:], threshold=1, radius=15, opacity=1)\n",
    "\n",
    "gmap_heatmap.draw('addresses_as_heatmap.html')"
   ]
  },
  {
   "cell_type": "code",
   "execution_count": 18,
   "metadata": {
    "collapsed": false
   },
   "outputs": [
    {
     "name": "stdout",
     "output_type": "stream",
     "text": [
      "[5745:5779:0617/110555.125655:ERROR:browser_gpu_channel_host_factory.cc(103)] Failed to launch GPU process.\r\n",
      "Created new window in existing browser session.\r\n"
     ]
    }
   ],
   "source": [
    "! sensible-browser addresses_as_heatmap.html"
   ]
  },
  {
   "cell_type": "markdown",
   "metadata": {},
   "source": [
    "<img src=\"addresses_on_map_heatmap.png\",width=800,height=800>"
   ]
  }
 ],
 "metadata": {
  "kernelspec": {
   "display_name": "Python 3",
   "language": "python",
   "name": "python3"
  },
  "language_info": {
   "codemirror_mode": {
    "name": "ipython",
    "version": 3
   },
   "file_extension": ".py",
   "mimetype": "text/x-python",
   "name": "python",
   "nbconvert_exporter": "python",
   "pygments_lexer": "ipython3",
   "version": "3.6.0"
  }
 },
 "nbformat": 4,
 "nbformat_minor": 2
}
