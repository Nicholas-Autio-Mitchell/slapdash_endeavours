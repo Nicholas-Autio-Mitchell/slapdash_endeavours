{
 "cells": [
  {
   "cell_type": "markdown",
   "metadata": {},
   "source": [
    "# Use Quaternions to rotate LiDAR point clouds\n",
    "\n",
    "This can be used in data augmentation.\n",
    "\n",
    "I test two packages that contain functions for doing this (method #1 and method #2)\n",
    "\n",
    "* [pyquaternion](https://github.com/KieranWynn/pyquaternion) - easier to use\n",
    "* [quarternion](https://github.com/moble/quaternion) - faster\n",
    "\n",
    "For information on quaternions in general, see [here](http://work.thaslwanter.at/Kinematics/html/04_Quaternions.html#combined-rotations-with-rotation-vectors)."
   ]
  },
  {
   "cell_type": "markdown",
   "metadata": {},
   "source": [
    "## Method 1 - `pyquaternion`"
   ]
  },
  {
   "cell_type": "code",
   "execution_count": 1,
   "metadata": {
    "collapsed": true
   },
   "outputs": [],
   "source": [
    "from pyquaternion import Quaternion\n",
    "import numpy as np\n",
    "import quaternion\n",
    "import matplotlib.pyplot as plt\n",
    "from mpl_toolkits.mplot3d import Axes3D\n",
    "%matplotlib inline"
   ]
  },
  {
   "cell_type": "code",
   "execution_count": 2,
   "metadata": {},
   "outputs": [
    {
     "name": "stdout",
     "output_type": "stream",
     "text": [
      "[[ 0.   0.   0.   1.   1.   1. ]\n",
      " [ 0.   0.   0.   3.   3.   1. ]\n",
      " [ 0.   0.   0.   4.   4.   4. ]\n",
      " [ 0.   0.   0.   1.   1.   4. ]\n",
      " [ 0.   0.   0.   3.   2.   1. ]\n",
      " [ 0.   0.   0.   0.5  0.5  2.5]]\n"
     ]
    }
   ],
   "source": [
    "# define vectors\n",
    "origin = [0, 0, 0]\n",
    "points = [[1, 1, 1],\n",
    "          [3, 3, 1],\n",
    "          [4, 4, 4],\n",
    "          [1, 1, 4],\n",
    "          [3, 2, 1],\n",
    "          [0.5, 0.5, 2.5]]\n",
    "\n",
    "vectors = np.array([origin + point for point in points])\n",
    "\n",
    "print(vectors)"
   ]
  },
  {
   "cell_type": "code",
   "execution_count": 3,
   "metadata": {
    "collapsed": true
   },
   "outputs": [],
   "source": [
    "# define the quaternion to rotate about the z-axis\n",
    "rot_angle = 10\n",
    "zquat = Quaternion(axis=[0.0, 0.0, 1.0], degrees=rot_angle)"
   ]
  },
  {
   "cell_type": "code",
   "execution_count": 4,
   "metadata": {},
   "outputs": [],
   "source": [
    "# rotate the vectors\n",
    "rot_vectors = []\n",
    "for vector in vectors:\n",
    "    r = zquat.rotate(vector[3:])\n",
    "    v =  np.concatenate((origin, r))\n",
    "    rot_vectors.append(v)"
   ]
  },
  {
   "cell_type": "code",
   "execution_count": 5,
   "metadata": {},
   "outputs": [
    {
     "data": {
      "text/plain": [
       "[array([ 0.        ,  0.        ,  0.        ,  0.81115958,  1.15845593,  1.        ]),\n",
       " array([ 0.        ,  0.        ,  0.        ,  2.43347873,  3.47536779,  1.        ]),\n",
       " array([ 0.        ,  0.        ,  0.        ,  3.2446383 ,  4.63382372,  4.        ]),\n",
       " array([ 0.        ,  0.        ,  0.        ,  0.81115958,  1.15845593,  4.        ]),\n",
       " array([ 0.        ,  0.        ,  0.        ,  2.6071269 ,  2.49056004,  1.        ]),\n",
       " array([ 0.        ,  0.        ,  0.        ,  0.40557979,  0.57922797,\n",
       "         2.5       ])]"
      ]
     },
     "execution_count": 5,
     "metadata": {},
     "output_type": "execute_result"
    }
   ],
   "source": [
    "rot_vectors"
   ]
  },
  {
   "cell_type": "markdown",
   "metadata": {},
   "source": [
    "## Method 2 - using dtype: `quaternion`"
   ]
  },
  {
   "cell_type": "code",
   "execution_count": 6,
   "metadata": {},
   "outputs": [
    {
     "data": {
      "text/plain": [
       "array([[ 0. ,  1. ,  1. ,  1. ],\n",
       "       [ 0. ,  3. ,  3. ,  1. ],\n",
       "       [ 0. ,  4. ,  4. ,  4. ],\n",
       "       [ 0. ,  1. ,  1. ,  4. ],\n",
       "       [ 0. ,  3. ,  2. ,  1. ],\n",
       "       [ 0. ,  0.5,  0.5,  2.5]])"
      ]
     },
     "execution_count": 6,
     "metadata": {},
     "output_type": "execute_result"
    }
   ],
   "source": [
    "# use the same vectors as above in method #1 (adjusted for package conventions)\n",
    "origin = [0.]\n",
    "points = [[1, 1, 1],\n",
    "          [3, 3, 1],\n",
    "          [4, 4, 4],\n",
    "          [1, 1, 4],\n",
    "          [3, 2, 1],\n",
    "          [0.5, 0.5, 2.5]]\n",
    "\n",
    "vectors2 = np.array([origin + point for point in points])\n",
    "\n",
    "vectors2"
   ]
  },
  {
   "cell_type": "code",
   "execution_count": 7,
   "metadata": {
    "collapsed": true
   },
   "outputs": [],
   "source": [
    "v = vectors2[1]\n",
    "axis = [0, 0, 1]    # rotate about the z-axis\n",
    "rot_angle = 10                  # degrees\n",
    "theta = np.deg2rad(rot_angle)   # radians\n",
    "\n",
    "rot_axis = np.array([0.] + axis)\n",
    "axis_angle = (theta*0.5) * rot_axis/np.linalg.norm(rot_axis)"
   ]
  },
  {
   "cell_type": "code",
   "execution_count": 8,
   "metadata": {
    "collapsed": true
   },
   "outputs": [],
   "source": [
    "vec = np.array([np.quaternion(*vi) for vi in vectors])\n",
    "qlog = quaternion.quaternion(*axis_angle)\n",
    "q = np.exp(qlog)"
   ]
  },
  {
   "cell_type": "code",
   "execution_count": 9,
   "metadata": {},
   "outputs": [
    {
     "data": {
      "text/plain": [
       "array([quaternion(0, 0, 0, 0), quaternion(0, 0, 0, 0),\n",
       "       quaternion(0, 0, 0, 0), quaternion(0, 0, 0, 0),\n",
       "       quaternion(0, 0, 0, 0), quaternion(0, 0, 0, 0)], dtype=quaternion)"
      ]
     },
     "execution_count": 9,
     "metadata": {},
     "output_type": "execute_result"
    }
   ],
   "source": [
    "# compute the rotation\n",
    "v_prime = q * vec * np.conjugate(q)\n",
    "v_prime"
   ]
  },
  {
   "cell_type": "code",
   "execution_count": 10,
   "metadata": {},
   "outputs": [],
   "source": [
    "# convert to compare to method 1 output\n",
    "rot_vectors2 = quaternion.as_float_array(v_prime)[:, 1:]\n",
    "\n",
    "# remove leading zeros from method 1 output\n",
    "rot_vectors1 = np.array(rot_vectors)[:, 3:]"
   ]
  },
  {
   "cell_type": "code",
   "execution_count": 11,
   "metadata": {},
   "outputs": [
    {
     "data": {
      "text/plain": [
       "False"
      ]
     },
     "execution_count": 11,
     "metadata": {},
     "output_type": "execute_result"
    }
   ],
   "source": [
    "# compare output to method 1\n",
    "np.array_equal(rot_vectors1, rot_vectors2)"
   ]
  },
  {
   "cell_type": "markdown",
   "metadata": {},
   "source": [
    "## Test and visualise rotation\n",
    "\n",
    "Use a few simple vectors with clear rotations\n",
    "\n",
    "Use method 1 as it is slightly easier..."
   ]
  },
  {
   "cell_type": "code",
   "execution_count": 12,
   "metadata": {},
   "outputs": [
    {
     "name": "stdout",
     "output_type": "stream",
     "text": [
      "Original vector: [ 0.  0.  0.  1.  1.  1.]\n",
      "Rotated vector: [ 0.          0.          0.          0.81115958  1.15845593  1.        ]\n",
      "Original vector: [ 0.  0.  0.  3.  3.  1.]\n",
      "Rotated vector: [ 0.          0.          0.          2.43347873  3.47536779  1.        ]\n",
      "Original vector: [ 0.  0.  0.  4.  4.  4.]\n",
      "Rotated vector: [ 0.          0.          0.          3.2446383   4.63382372  4.        ]\n",
      "Original vector: [ 0.  0.  0.  1.  1.  4.]\n",
      "Rotated vector: [ 0.          0.          0.          0.81115958  1.15845593  4.        ]\n",
      "Original vector: [ 0.  0.  0.  3.  2.  1.]\n",
      "Rotated vector: [ 0.          0.          0.          2.6071269   2.49056004  1.        ]\n",
      "Original vector: [ 0.   0.   0.   0.5  0.5  2.5]\n",
      "Rotated vector: [ 0.          0.          0.          0.40557979  0.57922797  2.5       ]\n"
     ]
    }
   ],
   "source": [
    "# have a look at the actual values for the original and rotated vectors\n",
    "for i in zip(vectors, rot_vectors):\n",
    "    print('Original vector: {}'.format(i[0]))\n",
    "    print('Rotated vector: {}'.format(i[1]))"
   ]
  },
  {
   "cell_type": "code",
   "execution_count": 13,
   "metadata": {
    "scrolled": false
   },
   "outputs": [
    {
     "data": {
      "application/javascript": [
       "/* Put everything inside the global mpl namespace */\n",
       "window.mpl = {};\n",
       "\n",
       "\n",
       "mpl.get_websocket_type = function() {\n",
       "    if (typeof(WebSocket) !== 'undefined') {\n",
       "        return WebSocket;\n",
       "    } else if (typeof(MozWebSocket) !== 'undefined') {\n",
       "        return MozWebSocket;\n",
       "    } else {\n",
       "        alert('Your browser does not have WebSocket support.' +\n",
       "              'Please try Chrome, Safari or Firefox ≥ 6. ' +\n",
       "              'Firefox 4 and 5 are also supported but you ' +\n",
       "              'have to enable WebSockets in about:config.');\n",
       "    };\n",
       "}\n",
       "\n",
       "mpl.figure = function(figure_id, websocket, ondownload, parent_element) {\n",
       "    this.id = figure_id;\n",
       "\n",
       "    this.ws = websocket;\n",
       "\n",
       "    this.supports_binary = (this.ws.binaryType != undefined);\n",
       "\n",
       "    if (!this.supports_binary) {\n",
       "        var warnings = document.getElementById(\"mpl-warnings\");\n",
       "        if (warnings) {\n",
       "            warnings.style.display = 'block';\n",
       "            warnings.textContent = (\n",
       "                \"This browser does not support binary websocket messages. \" +\n",
       "                    \"Performance may be slow.\");\n",
       "        }\n",
       "    }\n",
       "\n",
       "    this.imageObj = new Image();\n",
       "\n",
       "    this.context = undefined;\n",
       "    this.message = undefined;\n",
       "    this.canvas = undefined;\n",
       "    this.rubberband_canvas = undefined;\n",
       "    this.rubberband_context = undefined;\n",
       "    this.format_dropdown = undefined;\n",
       "\n",
       "    this.image_mode = 'full';\n",
       "\n",
       "    this.root = $('<div/>');\n",
       "    this._root_extra_style(this.root)\n",
       "    this.root.attr('style', 'display: inline-block');\n",
       "\n",
       "    $(parent_element).append(this.root);\n",
       "\n",
       "    this._init_header(this);\n",
       "    this._init_canvas(this);\n",
       "    this._init_toolbar(this);\n",
       "\n",
       "    var fig = this;\n",
       "\n",
       "    this.waiting = false;\n",
       "\n",
       "    this.ws.onopen =  function () {\n",
       "            fig.send_message(\"supports_binary\", {value: fig.supports_binary});\n",
       "            fig.send_message(\"send_image_mode\", {});\n",
       "            if (mpl.ratio != 1) {\n",
       "                fig.send_message(\"set_dpi_ratio\", {'dpi_ratio': mpl.ratio});\n",
       "            }\n",
       "            fig.send_message(\"refresh\", {});\n",
       "        }\n",
       "\n",
       "    this.imageObj.onload = function() {\n",
       "            if (fig.image_mode == 'full') {\n",
       "                // Full images could contain transparency (where diff images\n",
       "                // almost always do), so we need to clear the canvas so that\n",
       "                // there is no ghosting.\n",
       "                fig.context.clearRect(0, 0, fig.canvas.width, fig.canvas.height);\n",
       "            }\n",
       "            fig.context.drawImage(fig.imageObj, 0, 0);\n",
       "        };\n",
       "\n",
       "    this.imageObj.onunload = function() {\n",
       "        fig.ws.close();\n",
       "    }\n",
       "\n",
       "    this.ws.onmessage = this._make_on_message_function(this);\n",
       "\n",
       "    this.ondownload = ondownload;\n",
       "}\n",
       "\n",
       "mpl.figure.prototype._init_header = function() {\n",
       "    var titlebar = $(\n",
       "        '<div class=\"ui-dialog-titlebar ui-widget-header ui-corner-all ' +\n",
       "        'ui-helper-clearfix\"/>');\n",
       "    var titletext = $(\n",
       "        '<div class=\"ui-dialog-title\" style=\"width: 100%; ' +\n",
       "        'text-align: center; padding: 3px;\"/>');\n",
       "    titlebar.append(titletext)\n",
       "    this.root.append(titlebar);\n",
       "    this.header = titletext[0];\n",
       "}\n",
       "\n",
       "\n",
       "\n",
       "mpl.figure.prototype._canvas_extra_style = function(canvas_div) {\n",
       "\n",
       "}\n",
       "\n",
       "\n",
       "mpl.figure.prototype._root_extra_style = function(canvas_div) {\n",
       "\n",
       "}\n",
       "\n",
       "mpl.figure.prototype._init_canvas = function() {\n",
       "    var fig = this;\n",
       "\n",
       "    var canvas_div = $('<div/>');\n",
       "\n",
       "    canvas_div.attr('style', 'position: relative; clear: both; outline: 0');\n",
       "\n",
       "    function canvas_keyboard_event(event) {\n",
       "        return fig.key_event(event, event['data']);\n",
       "    }\n",
       "\n",
       "    canvas_div.keydown('key_press', canvas_keyboard_event);\n",
       "    canvas_div.keyup('key_release', canvas_keyboard_event);\n",
       "    this.canvas_div = canvas_div\n",
       "    this._canvas_extra_style(canvas_div)\n",
       "    this.root.append(canvas_div);\n",
       "\n",
       "    var canvas = $('<canvas/>');\n",
       "    canvas.addClass('mpl-canvas');\n",
       "    canvas.attr('style', \"left: 0; top: 0; z-index: 0; outline: 0\")\n",
       "\n",
       "    this.canvas = canvas[0];\n",
       "    this.context = canvas[0].getContext(\"2d\");\n",
       "\n",
       "    var backingStore = this.context.backingStorePixelRatio ||\n",
       "\tthis.context.webkitBackingStorePixelRatio ||\n",
       "\tthis.context.mozBackingStorePixelRatio ||\n",
       "\tthis.context.msBackingStorePixelRatio ||\n",
       "\tthis.context.oBackingStorePixelRatio ||\n",
       "\tthis.context.backingStorePixelRatio || 1;\n",
       "\n",
       "    mpl.ratio = (window.devicePixelRatio || 1) / backingStore;\n",
       "\n",
       "    var rubberband = $('<canvas/>');\n",
       "    rubberband.attr('style', \"position: absolute; left: 0; top: 0; z-index: 1;\")\n",
       "\n",
       "    var pass_mouse_events = true;\n",
       "\n",
       "    canvas_div.resizable({\n",
       "        start: function(event, ui) {\n",
       "            pass_mouse_events = false;\n",
       "        },\n",
       "        resize: function(event, ui) {\n",
       "            fig.request_resize(ui.size.width, ui.size.height);\n",
       "        },\n",
       "        stop: function(event, ui) {\n",
       "            pass_mouse_events = true;\n",
       "            fig.request_resize(ui.size.width, ui.size.height);\n",
       "        },\n",
       "    });\n",
       "\n",
       "    function mouse_event_fn(event) {\n",
       "        if (pass_mouse_events)\n",
       "            return fig.mouse_event(event, event['data']);\n",
       "    }\n",
       "\n",
       "    rubberband.mousedown('button_press', mouse_event_fn);\n",
       "    rubberband.mouseup('button_release', mouse_event_fn);\n",
       "    // Throttle sequential mouse events to 1 every 20ms.\n",
       "    rubberband.mousemove('motion_notify', mouse_event_fn);\n",
       "\n",
       "    rubberband.mouseenter('figure_enter', mouse_event_fn);\n",
       "    rubberband.mouseleave('figure_leave', mouse_event_fn);\n",
       "\n",
       "    canvas_div.on(\"wheel\", function (event) {\n",
       "        event = event.originalEvent;\n",
       "        event['data'] = 'scroll'\n",
       "        if (event.deltaY < 0) {\n",
       "            event.step = 1;\n",
       "        } else {\n",
       "            event.step = -1;\n",
       "        }\n",
       "        mouse_event_fn(event);\n",
       "    });\n",
       "\n",
       "    canvas_div.append(canvas);\n",
       "    canvas_div.append(rubberband);\n",
       "\n",
       "    this.rubberband = rubberband;\n",
       "    this.rubberband_canvas = rubberband[0];\n",
       "    this.rubberband_context = rubberband[0].getContext(\"2d\");\n",
       "    this.rubberband_context.strokeStyle = \"#000000\";\n",
       "\n",
       "    this._resize_canvas = function(width, height) {\n",
       "        // Keep the size of the canvas, canvas container, and rubber band\n",
       "        // canvas in synch.\n",
       "        canvas_div.css('width', width)\n",
       "        canvas_div.css('height', height)\n",
       "\n",
       "        canvas.attr('width', width * mpl.ratio);\n",
       "        canvas.attr('height', height * mpl.ratio);\n",
       "        canvas.attr('style', 'width: ' + width + 'px; height: ' + height + 'px;');\n",
       "\n",
       "        rubberband.attr('width', width);\n",
       "        rubberband.attr('height', height);\n",
       "    }\n",
       "\n",
       "    // Set the figure to an initial 600x600px, this will subsequently be updated\n",
       "    // upon first draw.\n",
       "    this._resize_canvas(600, 600);\n",
       "\n",
       "    // Disable right mouse context menu.\n",
       "    $(this.rubberband_canvas).bind(\"contextmenu\",function(e){\n",
       "        return false;\n",
       "    });\n",
       "\n",
       "    function set_focus () {\n",
       "        canvas.focus();\n",
       "        canvas_div.focus();\n",
       "    }\n",
       "\n",
       "    window.setTimeout(set_focus, 100);\n",
       "}\n",
       "\n",
       "mpl.figure.prototype._init_toolbar = function() {\n",
       "    var fig = this;\n",
       "\n",
       "    var nav_element = $('<div/>')\n",
       "    nav_element.attr('style', 'width: 100%');\n",
       "    this.root.append(nav_element);\n",
       "\n",
       "    // Define a callback function for later on.\n",
       "    function toolbar_event(event) {\n",
       "        return fig.toolbar_button_onclick(event['data']);\n",
       "    }\n",
       "    function toolbar_mouse_event(event) {\n",
       "        return fig.toolbar_button_onmouseover(event['data']);\n",
       "    }\n",
       "\n",
       "    for(var toolbar_ind in mpl.toolbar_items) {\n",
       "        var name = mpl.toolbar_items[toolbar_ind][0];\n",
       "        var tooltip = mpl.toolbar_items[toolbar_ind][1];\n",
       "        var image = mpl.toolbar_items[toolbar_ind][2];\n",
       "        var method_name = mpl.toolbar_items[toolbar_ind][3];\n",
       "\n",
       "        if (!name) {\n",
       "            // put a spacer in here.\n",
       "            continue;\n",
       "        }\n",
       "        var button = $('<button/>');\n",
       "        button.addClass('ui-button ui-widget ui-state-default ui-corner-all ' +\n",
       "                        'ui-button-icon-only');\n",
       "        button.attr('role', 'button');\n",
       "        button.attr('aria-disabled', 'false');\n",
       "        button.click(method_name, toolbar_event);\n",
       "        button.mouseover(tooltip, toolbar_mouse_event);\n",
       "\n",
       "        var icon_img = $('<span/>');\n",
       "        icon_img.addClass('ui-button-icon-primary ui-icon');\n",
       "        icon_img.addClass(image);\n",
       "        icon_img.addClass('ui-corner-all');\n",
       "\n",
       "        var tooltip_span = $('<span/>');\n",
       "        tooltip_span.addClass('ui-button-text');\n",
       "        tooltip_span.html(tooltip);\n",
       "\n",
       "        button.append(icon_img);\n",
       "        button.append(tooltip_span);\n",
       "\n",
       "        nav_element.append(button);\n",
       "    }\n",
       "\n",
       "    var fmt_picker_span = $('<span/>');\n",
       "\n",
       "    var fmt_picker = $('<select/>');\n",
       "    fmt_picker.addClass('mpl-toolbar-option ui-widget ui-widget-content');\n",
       "    fmt_picker_span.append(fmt_picker);\n",
       "    nav_element.append(fmt_picker_span);\n",
       "    this.format_dropdown = fmt_picker[0];\n",
       "\n",
       "    for (var ind in mpl.extensions) {\n",
       "        var fmt = mpl.extensions[ind];\n",
       "        var option = $(\n",
       "            '<option/>', {selected: fmt === mpl.default_extension}).html(fmt);\n",
       "        fmt_picker.append(option)\n",
       "    }\n",
       "\n",
       "    // Add hover states to the ui-buttons\n",
       "    $( \".ui-button\" ).hover(\n",
       "        function() { $(this).addClass(\"ui-state-hover\");},\n",
       "        function() { $(this).removeClass(\"ui-state-hover\");}\n",
       "    );\n",
       "\n",
       "    var status_bar = $('<span class=\"mpl-message\"/>');\n",
       "    nav_element.append(status_bar);\n",
       "    this.message = status_bar[0];\n",
       "}\n",
       "\n",
       "mpl.figure.prototype.request_resize = function(x_pixels, y_pixels) {\n",
       "    // Request matplotlib to resize the figure. Matplotlib will then trigger a resize in the client,\n",
       "    // which will in turn request a refresh of the image.\n",
       "    this.send_message('resize', {'width': x_pixels, 'height': y_pixels});\n",
       "}\n",
       "\n",
       "mpl.figure.prototype.send_message = function(type, properties) {\n",
       "    properties['type'] = type;\n",
       "    properties['figure_id'] = this.id;\n",
       "    this.ws.send(JSON.stringify(properties));\n",
       "}\n",
       "\n",
       "mpl.figure.prototype.send_draw_message = function() {\n",
       "    if (!this.waiting) {\n",
       "        this.waiting = true;\n",
       "        this.ws.send(JSON.stringify({type: \"draw\", figure_id: this.id}));\n",
       "    }\n",
       "}\n",
       "\n",
       "\n",
       "mpl.figure.prototype.handle_save = function(fig, msg) {\n",
       "    var format_dropdown = fig.format_dropdown;\n",
       "    var format = format_dropdown.options[format_dropdown.selectedIndex].value;\n",
       "    fig.ondownload(fig, format);\n",
       "}\n",
       "\n",
       "\n",
       "mpl.figure.prototype.handle_resize = function(fig, msg) {\n",
       "    var size = msg['size'];\n",
       "    if (size[0] != fig.canvas.width || size[1] != fig.canvas.height) {\n",
       "        fig._resize_canvas(size[0], size[1]);\n",
       "        fig.send_message(\"refresh\", {});\n",
       "    };\n",
       "}\n",
       "\n",
       "mpl.figure.prototype.handle_rubberband = function(fig, msg) {\n",
       "    var x0 = msg['x0'] / mpl.ratio;\n",
       "    var y0 = (fig.canvas.height - msg['y0']) / mpl.ratio;\n",
       "    var x1 = msg['x1'] / mpl.ratio;\n",
       "    var y1 = (fig.canvas.height - msg['y1']) / mpl.ratio;\n",
       "    x0 = Math.floor(x0) + 0.5;\n",
       "    y0 = Math.floor(y0) + 0.5;\n",
       "    x1 = Math.floor(x1) + 0.5;\n",
       "    y1 = Math.floor(y1) + 0.5;\n",
       "    var min_x = Math.min(x0, x1);\n",
       "    var min_y = Math.min(y0, y1);\n",
       "    var width = Math.abs(x1 - x0);\n",
       "    var height = Math.abs(y1 - y0);\n",
       "\n",
       "    fig.rubberband_context.clearRect(\n",
       "        0, 0, fig.canvas.width, fig.canvas.height);\n",
       "\n",
       "    fig.rubberband_context.strokeRect(min_x, min_y, width, height);\n",
       "}\n",
       "\n",
       "mpl.figure.prototype.handle_figure_label = function(fig, msg) {\n",
       "    // Updates the figure title.\n",
       "    fig.header.textContent = msg['label'];\n",
       "}\n",
       "\n",
       "mpl.figure.prototype.handle_cursor = function(fig, msg) {\n",
       "    var cursor = msg['cursor'];\n",
       "    switch(cursor)\n",
       "    {\n",
       "    case 0:\n",
       "        cursor = 'pointer';\n",
       "        break;\n",
       "    case 1:\n",
       "        cursor = 'default';\n",
       "        break;\n",
       "    case 2:\n",
       "        cursor = 'crosshair';\n",
       "        break;\n",
       "    case 3:\n",
       "        cursor = 'move';\n",
       "        break;\n",
       "    }\n",
       "    fig.rubberband_canvas.style.cursor = cursor;\n",
       "}\n",
       "\n",
       "mpl.figure.prototype.handle_message = function(fig, msg) {\n",
       "    fig.message.textContent = msg['message'];\n",
       "}\n",
       "\n",
       "mpl.figure.prototype.handle_draw = function(fig, msg) {\n",
       "    // Request the server to send over a new figure.\n",
       "    fig.send_draw_message();\n",
       "}\n",
       "\n",
       "mpl.figure.prototype.handle_image_mode = function(fig, msg) {\n",
       "    fig.image_mode = msg['mode'];\n",
       "}\n",
       "\n",
       "mpl.figure.prototype.updated_canvas_event = function() {\n",
       "    // Called whenever the canvas gets updated.\n",
       "    this.send_message(\"ack\", {});\n",
       "}\n",
       "\n",
       "// A function to construct a web socket function for onmessage handling.\n",
       "// Called in the figure constructor.\n",
       "mpl.figure.prototype._make_on_message_function = function(fig) {\n",
       "    return function socket_on_message(evt) {\n",
       "        if (evt.data instanceof Blob) {\n",
       "            /* FIXME: We get \"Resource interpreted as Image but\n",
       "             * transferred with MIME type text/plain:\" errors on\n",
       "             * Chrome.  But how to set the MIME type?  It doesn't seem\n",
       "             * to be part of the websocket stream */\n",
       "            evt.data.type = \"image/png\";\n",
       "\n",
       "            /* Free the memory for the previous frames */\n",
       "            if (fig.imageObj.src) {\n",
       "                (window.URL || window.webkitURL).revokeObjectURL(\n",
       "                    fig.imageObj.src);\n",
       "            }\n",
       "\n",
       "            fig.imageObj.src = (window.URL || window.webkitURL).createObjectURL(\n",
       "                evt.data);\n",
       "            fig.updated_canvas_event();\n",
       "            fig.waiting = false;\n",
       "            return;\n",
       "        }\n",
       "        else if (typeof evt.data === 'string' && evt.data.slice(0, 21) == \"data:image/png;base64\") {\n",
       "            fig.imageObj.src = evt.data;\n",
       "            fig.updated_canvas_event();\n",
       "            fig.waiting = false;\n",
       "            return;\n",
       "        }\n",
       "\n",
       "        var msg = JSON.parse(evt.data);\n",
       "        var msg_type = msg['type'];\n",
       "\n",
       "        // Call the  \"handle_{type}\" callback, which takes\n",
       "        // the figure and JSON message as its only arguments.\n",
       "        try {\n",
       "            var callback = fig[\"handle_\" + msg_type];\n",
       "        } catch (e) {\n",
       "            console.log(\"No handler for the '\" + msg_type + \"' message type: \", msg);\n",
       "            return;\n",
       "        }\n",
       "\n",
       "        if (callback) {\n",
       "            try {\n",
       "                // console.log(\"Handling '\" + msg_type + \"' message: \", msg);\n",
       "                callback(fig, msg);\n",
       "            } catch (e) {\n",
       "                console.log(\"Exception inside the 'handler_\" + msg_type + \"' callback:\", e, e.stack, msg);\n",
       "            }\n",
       "        }\n",
       "    };\n",
       "}\n",
       "\n",
       "// from http://stackoverflow.com/questions/1114465/getting-mouse-location-in-canvas\n",
       "mpl.findpos = function(e) {\n",
       "    //this section is from http://www.quirksmode.org/js/events_properties.html\n",
       "    var targ;\n",
       "    if (!e)\n",
       "        e = window.event;\n",
       "    if (e.target)\n",
       "        targ = e.target;\n",
       "    else if (e.srcElement)\n",
       "        targ = e.srcElement;\n",
       "    if (targ.nodeType == 3) // defeat Safari bug\n",
       "        targ = targ.parentNode;\n",
       "\n",
       "    // jQuery normalizes the pageX and pageY\n",
       "    // pageX,Y are the mouse positions relative to the document\n",
       "    // offset() returns the position of the element relative to the document\n",
       "    var x = e.pageX - $(targ).offset().left;\n",
       "    var y = e.pageY - $(targ).offset().top;\n",
       "\n",
       "    return {\"x\": x, \"y\": y};\n",
       "};\n",
       "\n",
       "/*\n",
       " * return a copy of an object with only non-object keys\n",
       " * we need this to avoid circular references\n",
       " * http://stackoverflow.com/a/24161582/3208463\n",
       " */\n",
       "function simpleKeys (original) {\n",
       "  return Object.keys(original).reduce(function (obj, key) {\n",
       "    if (typeof original[key] !== 'object')\n",
       "        obj[key] = original[key]\n",
       "    return obj;\n",
       "  }, {});\n",
       "}\n",
       "\n",
       "mpl.figure.prototype.mouse_event = function(event, name) {\n",
       "    var canvas_pos = mpl.findpos(event)\n",
       "\n",
       "    if (name === 'button_press')\n",
       "    {\n",
       "        this.canvas.focus();\n",
       "        this.canvas_div.focus();\n",
       "    }\n",
       "\n",
       "    var x = canvas_pos.x * mpl.ratio;\n",
       "    var y = canvas_pos.y * mpl.ratio;\n",
       "\n",
       "    this.send_message(name, {x: x, y: y, button: event.button,\n",
       "                             step: event.step,\n",
       "                             guiEvent: simpleKeys(event)});\n",
       "\n",
       "    /* This prevents the web browser from automatically changing to\n",
       "     * the text insertion cursor when the button is pressed.  We want\n",
       "     * to control all of the cursor setting manually through the\n",
       "     * 'cursor' event from matplotlib */\n",
       "    event.preventDefault();\n",
       "    return false;\n",
       "}\n",
       "\n",
       "mpl.figure.prototype._key_event_extra = function(event, name) {\n",
       "    // Handle any extra behaviour associated with a key event\n",
       "}\n",
       "\n",
       "mpl.figure.prototype.key_event = function(event, name) {\n",
       "\n",
       "    // Prevent repeat events\n",
       "    if (name == 'key_press')\n",
       "    {\n",
       "        if (event.which === this._key)\n",
       "            return;\n",
       "        else\n",
       "            this._key = event.which;\n",
       "    }\n",
       "    if (name == 'key_release')\n",
       "        this._key = null;\n",
       "\n",
       "    var value = '';\n",
       "    if (event.ctrlKey && event.which != 17)\n",
       "        value += \"ctrl+\";\n",
       "    if (event.altKey && event.which != 18)\n",
       "        value += \"alt+\";\n",
       "    if (event.shiftKey && event.which != 16)\n",
       "        value += \"shift+\";\n",
       "\n",
       "    value += 'k';\n",
       "    value += event.which.toString();\n",
       "\n",
       "    this._key_event_extra(event, name);\n",
       "\n",
       "    this.send_message(name, {key: value,\n",
       "                             guiEvent: simpleKeys(event)});\n",
       "    return false;\n",
       "}\n",
       "\n",
       "mpl.figure.prototype.toolbar_button_onclick = function(name) {\n",
       "    if (name == 'download') {\n",
       "        this.handle_save(this, null);\n",
       "    } else {\n",
       "        this.send_message(\"toolbar_button\", {name: name});\n",
       "    }\n",
       "};\n",
       "\n",
       "mpl.figure.prototype.toolbar_button_onmouseover = function(tooltip) {\n",
       "    this.message.textContent = tooltip;\n",
       "};\n",
       "mpl.toolbar_items = [[\"Home\", \"Reset original view\", \"fa fa-home icon-home\", \"home\"], [\"Back\", \"Back to  previous view\", \"fa fa-arrow-left icon-arrow-left\", \"back\"], [\"Forward\", \"Forward to next view\", \"fa fa-arrow-right icon-arrow-right\", \"forward\"], [\"\", \"\", \"\", \"\"], [\"Pan\", \"Pan axes with left mouse, zoom with right\", \"fa fa-arrows icon-move\", \"pan\"], [\"Zoom\", \"Zoom to rectangle\", \"fa fa-square-o icon-check-empty\", \"zoom\"], [\"\", \"\", \"\", \"\"], [\"Download\", \"Download plot\", \"fa fa-floppy-o icon-save\", \"download\"]];\n",
       "\n",
       "mpl.extensions = [\"eps\", \"jpeg\", \"pdf\", \"png\", \"ps\", \"raw\", \"svg\", \"tif\"];\n",
       "\n",
       "mpl.default_extension = \"png\";var comm_websocket_adapter = function(comm) {\n",
       "    // Create a \"websocket\"-like object which calls the given IPython comm\n",
       "    // object with the appropriate methods. Currently this is a non binary\n",
       "    // socket, so there is still some room for performance tuning.\n",
       "    var ws = {};\n",
       "\n",
       "    ws.close = function() {\n",
       "        comm.close()\n",
       "    };\n",
       "    ws.send = function(m) {\n",
       "        //console.log('sending', m);\n",
       "        comm.send(m);\n",
       "    };\n",
       "    // Register the callback with on_msg.\n",
       "    comm.on_msg(function(msg) {\n",
       "        //console.log('receiving', msg['content']['data'], msg);\n",
       "        // Pass the mpl event to the overriden (by mpl) onmessage function.\n",
       "        ws.onmessage(msg['content']['data'])\n",
       "    });\n",
       "    return ws;\n",
       "}\n",
       "\n",
       "mpl.mpl_figure_comm = function(comm, msg) {\n",
       "    // This is the function which gets called when the mpl process\n",
       "    // starts-up an IPython Comm through the \"matplotlib\" channel.\n",
       "\n",
       "    var id = msg.content.data.id;\n",
       "    // Get hold of the div created by the display call when the Comm\n",
       "    // socket was opened in Python.\n",
       "    var element = $(\"#\" + id);\n",
       "    var ws_proxy = comm_websocket_adapter(comm)\n",
       "\n",
       "    function ondownload(figure, format) {\n",
       "        window.open(figure.imageObj.src);\n",
       "    }\n",
       "\n",
       "    var fig = new mpl.figure(id, ws_proxy,\n",
       "                           ondownload,\n",
       "                           element.get(0));\n",
       "\n",
       "    // Call onopen now - mpl needs it, as it is assuming we've passed it a real\n",
       "    // web socket which is closed, not our websocket->open comm proxy.\n",
       "    ws_proxy.onopen();\n",
       "\n",
       "    fig.parent_element = element.get(0);\n",
       "    fig.cell_info = mpl.find_output_cell(\"<div id='\" + id + \"'></div>\");\n",
       "    if (!fig.cell_info) {\n",
       "        console.error(\"Failed to find cell for figure\", id, fig);\n",
       "        return;\n",
       "    }\n",
       "\n",
       "    var output_index = fig.cell_info[2]\n",
       "    var cell = fig.cell_info[0];\n",
       "\n",
       "};\n",
       "\n",
       "mpl.figure.prototype.handle_close = function(fig, msg) {\n",
       "    var width = fig.canvas.width/mpl.ratio\n",
       "    fig.root.unbind('remove')\n",
       "\n",
       "    // Update the output cell to use the data from the current canvas.\n",
       "    fig.push_to_output();\n",
       "    var dataURL = fig.canvas.toDataURL();\n",
       "    // Re-enable the keyboard manager in IPython - without this line, in FF,\n",
       "    // the notebook keyboard shortcuts fail.\n",
       "    IPython.keyboard_manager.enable()\n",
       "    $(fig.parent_element).html('<img src=\"' + dataURL + '\" width=\"' + width + '\">');\n",
       "    fig.close_ws(fig, msg);\n",
       "}\n",
       "\n",
       "mpl.figure.prototype.close_ws = function(fig, msg){\n",
       "    fig.send_message('closing', msg);\n",
       "    // fig.ws.close()\n",
       "}\n",
       "\n",
       "mpl.figure.prototype.push_to_output = function(remove_interactive) {\n",
       "    // Turn the data on the canvas into data in the output cell.\n",
       "    var width = this.canvas.width/mpl.ratio\n",
       "    var dataURL = this.canvas.toDataURL();\n",
       "    this.cell_info[1]['text/html'] = '<img src=\"' + dataURL + '\" width=\"' + width + '\">';\n",
       "}\n",
       "\n",
       "mpl.figure.prototype.updated_canvas_event = function() {\n",
       "    // Tell IPython that the notebook contents must change.\n",
       "    IPython.notebook.set_dirty(true);\n",
       "    this.send_message(\"ack\", {});\n",
       "    var fig = this;\n",
       "    // Wait a second, then push the new image to the DOM so\n",
       "    // that it is saved nicely (might be nice to debounce this).\n",
       "    setTimeout(function () { fig.push_to_output() }, 1000);\n",
       "}\n",
       "\n",
       "mpl.figure.prototype._init_toolbar = function() {\n",
       "    var fig = this;\n",
       "\n",
       "    var nav_element = $('<div/>')\n",
       "    nav_element.attr('style', 'width: 100%');\n",
       "    this.root.append(nav_element);\n",
       "\n",
       "    // Define a callback function for later on.\n",
       "    function toolbar_event(event) {\n",
       "        return fig.toolbar_button_onclick(event['data']);\n",
       "    }\n",
       "    function toolbar_mouse_event(event) {\n",
       "        return fig.toolbar_button_onmouseover(event['data']);\n",
       "    }\n",
       "\n",
       "    for(var toolbar_ind in mpl.toolbar_items){\n",
       "        var name = mpl.toolbar_items[toolbar_ind][0];\n",
       "        var tooltip = mpl.toolbar_items[toolbar_ind][1];\n",
       "        var image = mpl.toolbar_items[toolbar_ind][2];\n",
       "        var method_name = mpl.toolbar_items[toolbar_ind][3];\n",
       "\n",
       "        if (!name) { continue; };\n",
       "\n",
       "        var button = $('<button class=\"btn btn-default\" href=\"#\" title=\"' + name + '\"><i class=\"fa ' + image + ' fa-lg\"></i></button>');\n",
       "        button.click(method_name, toolbar_event);\n",
       "        button.mouseover(tooltip, toolbar_mouse_event);\n",
       "        nav_element.append(button);\n",
       "    }\n",
       "\n",
       "    // Add the status bar.\n",
       "    var status_bar = $('<span class=\"mpl-message\" style=\"text-align:right; float: right;\"/>');\n",
       "    nav_element.append(status_bar);\n",
       "    this.message = status_bar[0];\n",
       "\n",
       "    // Add the close button to the window.\n",
       "    var buttongrp = $('<div class=\"btn-group inline pull-right\"></div>');\n",
       "    var button = $('<button class=\"btn btn-mini btn-primary\" href=\"#\" title=\"Stop Interaction\"><i class=\"fa fa-power-off icon-remove icon-large\"></i></button>');\n",
       "    button.click(function (evt) { fig.handle_close(fig, {}); } );\n",
       "    button.mouseover('Stop Interaction', toolbar_mouse_event);\n",
       "    buttongrp.append(button);\n",
       "    var titlebar = this.root.find($('.ui-dialog-titlebar'));\n",
       "    titlebar.prepend(buttongrp);\n",
       "}\n",
       "\n",
       "mpl.figure.prototype._root_extra_style = function(el){\n",
       "    var fig = this\n",
       "    el.on(\"remove\", function(){\n",
       "\tfig.close_ws(fig, {});\n",
       "    });\n",
       "}\n",
       "\n",
       "mpl.figure.prototype._canvas_extra_style = function(el){\n",
       "    // this is important to make the div 'focusable\n",
       "    el.attr('tabindex', 0)\n",
       "    // reach out to IPython and tell the keyboard manager to turn it's self\n",
       "    // off when our div gets focus\n",
       "\n",
       "    // location in version 3\n",
       "    if (IPython.notebook.keyboard_manager) {\n",
       "        IPython.notebook.keyboard_manager.register_events(el);\n",
       "    }\n",
       "    else {\n",
       "        // location in version 2\n",
       "        IPython.keyboard_manager.register_events(el);\n",
       "    }\n",
       "\n",
       "}\n",
       "\n",
       "mpl.figure.prototype._key_event_extra = function(event, name) {\n",
       "    var manager = IPython.notebook.keyboard_manager;\n",
       "    if (!manager)\n",
       "        manager = IPython.keyboard_manager;\n",
       "\n",
       "    // Check for shift+enter\n",
       "    if (event.shiftKey && event.which == 13) {\n",
       "        this.canvas_div.blur();\n",
       "        event.shiftKey = false;\n",
       "        // Send a \"J\" for go to next cell\n",
       "        event.which = 74;\n",
       "        event.keyCode = 74;\n",
       "        manager.command_mode();\n",
       "        manager.handle_keydown(event);\n",
       "    }\n",
       "}\n",
       "\n",
       "mpl.figure.prototype.handle_save = function(fig, msg) {\n",
       "    fig.ondownload(fig, null);\n",
       "}\n",
       "\n",
       "\n",
       "mpl.find_output_cell = function(html_output) {\n",
       "    // Return the cell and output element which can be found *uniquely* in the notebook.\n",
       "    // Note - this is a bit hacky, but it is done because the \"notebook_saving.Notebook\"\n",
       "    // IPython event is triggered only after the cells have been serialised, which for\n",
       "    // our purposes (turning an active figure into a static one), is too late.\n",
       "    var cells = IPython.notebook.get_cells();\n",
       "    var ncells = cells.length;\n",
       "    for (var i=0; i<ncells; i++) {\n",
       "        var cell = cells[i];\n",
       "        if (cell.cell_type === 'code'){\n",
       "            for (var j=0; j<cell.output_area.outputs.length; j++) {\n",
       "                var data = cell.output_area.outputs[j];\n",
       "                if (data.data) {\n",
       "                    // IPython >= 3 moved mimebundle to data attribute of output\n",
       "                    data = data.data;\n",
       "                }\n",
       "                if (data['text/html'] == html_output) {\n",
       "                    return [cell, data, j];\n",
       "                }\n",
       "            }\n",
       "        }\n",
       "    }\n",
       "}\n",
       "\n",
       "// Register the function which deals with the matplotlib target/channel.\n",
       "// The kernel may be null if the page has been refreshed.\n",
       "if (IPython.notebook.kernel != null) {\n",
       "    IPython.notebook.kernel.comm_manager.register_target('matplotlib', mpl.mpl_figure_comm);\n",
       "}\n"
      ],
      "text/plain": [
       "<IPython.core.display.Javascript object>"
      ]
     },
     "metadata": {},
     "output_type": "display_data"
    },
    {
     "data": {
      "text/html": [
       "<img src=\"data:image/png;base64,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\" width=\"936\">"
      ],
      "text/plain": [
       "<IPython.core.display.HTML object>"
      ]
     },
     "metadata": {},
     "output_type": "display_data"
    }
   ],
   "source": [
    "%matplotlib notebook\n",
    "\n",
    "fig = plt.figure()\n",
    "fig.set_size_inches(13, 10)\n",
    "ax = fig.add_subplot(111, projection='3d')\n",
    "ax.set_title('3D point cloud rotation - 10 degrees about Z-axis\\n'\n",
    "             'Input: blue vectors with orange points\\n'\n",
    "             'Output: red vectors with green points\\n\\n')\n",
    "\n",
    "# show the vectors?\n",
    "ARROWS = True\n",
    "    \n",
    "for vector in vectors:\n",
    "    if ARROWS:\n",
    "        ax.quiver(*vector, arrow_length_ratio=0.1, cmap='Blues')\n",
    "    ax.scatter3D(*vector[3:], c='orange')\n",
    "\n",
    "for vector in rot_vectors:\n",
    "    if ARROWS:\n",
    "        ax.quiver(*vector, arrow_length_ratio=0.1, color='r')\n",
    "    ax.scatter3D(*vector[3:], c='g')\n",
    "    \n",
    "ax.set_xlim([0, 5])\n",
    "ax.set_ylim([0, 5])\n",
    "ax.set_zlim([0, 5])\n",
    "ax.set_xlabel('X')\n",
    "ax.set_ylabel('Y')\n",
    "ax.set_zlabel('Z');"
   ]
  },
  {
   "cell_type": "markdown",
   "metadata": {},
   "source": [
    "# Benchmarking\n",
    "\n",
    "Compare the two methods in terms of execution speed of datasets of three sizes:\n",
    "\n",
    "* 1,000 points\n",
    "* 10,000 points\n",
    "* 20,000 points\n",
    "* 1,000,000 points [bonus for **`quaternions`** package only]"
   ]
  },
  {
   "cell_type": "code",
   "execution_count": 14,
   "metadata": {
    "collapsed": true
   },
   "outputs": [],
   "source": [
    "# specify the angle by which to rotate all points\n",
    "rot_angle = 10\n",
    "theta = np.deg2rad(rot_angle)"
   ]
  },
  {
   "cell_type": "code",
   "execution_count": 15,
   "metadata": {
    "collapsed": true
   },
   "outputs": [],
   "source": [
    "# method 1 setup\n",
    "rot_axis = [0.0, 0.0, 1.0]\n",
    "zquat = Quaternion(axis=rot_axis, radians=theta)"
   ]
  },
  {
   "cell_type": "code",
   "execution_count": 16,
   "metadata": {
    "collapsed": true
   },
   "outputs": [],
   "source": [
    "# method 2 setup\n",
    "rot_axis = np.array([0.0, 0.0, 0.0, 1.0])    # rotate about the z-axis\n",
    "#rot_axis = np.array([0.] + axis)\n",
    "axis_angle = (theta * 0.5) * rot_axis/np.linalg.norm(rot_axis)\n",
    "\n",
    "qlog = quaternion.quaternion(*axis_angle)\n",
    "q = np.exp(qlog)"
   ]
  },
  {
   "cell_type": "markdown",
   "metadata": {},
   "source": [
    "### Generate test data for both methods"
   ]
  },
  {
   "cell_type": "code",
   "execution_count": 17,
   "metadata": {
    "collapsed": true
   },
   "outputs": [],
   "source": [
    "## create a random test matrix to compare both methods\n",
    "n_points_small = [np.random.random(size=(3,)) * 10 for i in range(1000)]\n",
    "n_points_medium = [np.random.random(size=(3,)) * 10 for i in range(10000)]\n",
    "n_points_large = [np.random.random(size=(3,)) * 10 for i in range(20000)]\n",
    "n_points_xlarge = [np.random.random(size=(3,)) * 10 for i in range(1000000)]"
   ]
  },
  {
   "cell_type": "code",
   "execution_count": 18,
   "metadata": {
    "collapsed": true
   },
   "outputs": [],
   "source": [
    "# reform the input as required for second method\n",
    "m_points_small = np.array([np.quaternion(*vi) for vi in n_points_small])\n",
    "m_points_medium = np.array([np.quaternion(*vi) for vi in n_points_medium])\n",
    "m_points_large = np.array([np.quaternion(*vi) for vi in n_points_large])\n",
    "m_points_xlarge = np.array([np.quaternion(*vi) for vi in n_points_xlarge])"
   ]
  },
  {
   "cell_type": "markdown",
   "metadata": {},
   "source": [
    "#### Sanity check that they are the same"
   ]
  },
  {
   "cell_type": "code",
   "execution_count": 19,
   "metadata": {},
   "outputs": [
    {
     "name": "stdout",
     "output_type": "stream",
     "text": [
      "1000\n"
     ]
    },
    {
     "data": {
      "text/plain": [
       "array([ 2.10006094,  2.58407429,  0.19857891])"
      ]
     },
     "execution_count": 19,
     "metadata": {},
     "output_type": "execute_result"
    }
   ],
   "source": [
    "print(len(n_points_small))\n",
    "n_points_small[0]"
   ]
  },
  {
   "cell_type": "code",
   "execution_count": 20,
   "metadata": {},
   "outputs": [
    {
     "name": "stdout",
     "output_type": "stream",
     "text": [
      "(1000,)\n"
     ]
    },
    {
     "data": {
      "text/plain": [
       "quaternion(0, 2.10006094452047, 2.58407428912722, 0.198578909460139)"
      ]
     },
     "execution_count": 20,
     "metadata": {},
     "output_type": "execute_result"
    }
   ],
   "source": [
    "print(m_points_small.shape)\n",
    "m_points_small[0]\n",
    "# more decimals in prinout is simply due to the quarternion object's __repr__ method - values are actually the same"
   ]
  },
  {
   "cell_type": "markdown",
   "metadata": {},
   "source": [
    "### Test method 1"
   ]
  },
  {
   "cell_type": "code",
   "execution_count": 21,
   "metadata": {},
   "outputs": [
    {
     "name": "stdout",
     "output_type": "stream",
     "text": [
      "65.1 ms ± 6.76 ms per loop (mean ± std. dev. of 10 runs, 10 loops each)\n"
     ]
    }
   ],
   "source": [
    "%%timeit -n 10 -r 10\n",
    "for i in range(1000):\n",
    "    zquat.rotate(n_points_small[i])"
   ]
  },
  {
   "cell_type": "code",
   "execution_count": 22,
   "metadata": {},
   "outputs": [
    {
     "name": "stdout",
     "output_type": "stream",
     "text": [
      "632 ms ± 49.1 ms per loop (mean ± std. dev. of 10 runs, 10 loops each)\n"
     ]
    }
   ],
   "source": [
    "%%timeit -n 10 -r 10\n",
    "for i in range(10000):\n",
    "    zquat.rotate(n_points_medium[i])"
   ]
  },
  {
   "cell_type": "code",
   "execution_count": 23,
   "metadata": {},
   "outputs": [
    {
     "name": "stdout",
     "output_type": "stream",
     "text": [
      "1.18 s ± 36.2 ms per loop (mean ± std. dev. of 10 runs, 10 loops each)\n"
     ]
    }
   ],
   "source": [
    "%%timeit -n 10 -r 10\n",
    "for i in range(20000):\n",
    "    zquat.rotate(n_points_large[i])"
   ]
  },
  {
   "cell_type": "code",
   "execution_count": 24,
   "metadata": {
    "collapsed": true
   },
   "outputs": [],
   "source": [
    "# record results to compare to method 2 (for 10,000 point test)\n",
    "method_1_results = []\n",
    "for i in range(10000):\n",
    "    method_1_results.append(zquat.rotate(n_points_medium[i]))\n",
    "    \n",
    "method_1_results = np.array(method_1_results)"
   ]
  },
  {
   "cell_type": "markdown",
   "metadata": {},
   "source": [
    "### Test method 2"
   ]
  },
  {
   "cell_type": "code",
   "execution_count": 25,
   "metadata": {},
   "outputs": [
    {
     "name": "stdout",
     "output_type": "stream",
     "text": [
      "35.8 µs ± 13.9 µs per loop (mean ± std. dev. of 10 runs, 10 loops each)\n"
     ]
    }
   ],
   "source": [
    "%%timeit -n 10 -r 10\n",
    "q * m_points_small * np.conjugate(q)"
   ]
  },
  {
   "cell_type": "code",
   "execution_count": 26,
   "metadata": {},
   "outputs": [
    {
     "name": "stdout",
     "output_type": "stream",
     "text": [
      "276 µs ± 49.7 µs per loop (mean ± std. dev. of 10 runs, 10 loops each)\n"
     ]
    }
   ],
   "source": [
    "%%timeit -n 10 -r 10\n",
    "q * m_points_medium * np.conjugate(q)"
   ]
  },
  {
   "cell_type": "code",
   "execution_count": 27,
   "metadata": {},
   "outputs": [
    {
     "name": "stdout",
     "output_type": "stream",
     "text": [
      "512 µs ± 95.8 µs per loop (mean ± std. dev. of 10 runs, 10 loops each)\n"
     ]
    }
   ],
   "source": [
    "%%timeit -n 10 -r 10\n",
    "q * m_points_large * np.conjugate(q)"
   ]
  },
  {
   "cell_type": "code",
   "execution_count": 28,
   "metadata": {},
   "outputs": [
    {
     "name": "stdout",
     "output_type": "stream",
     "text": [
      "24.2 ms ± 601 µs per loop (mean ± std. dev. of 10 runs, 10 loops each)\n"
     ]
    }
   ],
   "source": [
    "%%timeit -n 10 -r 10\n",
    "q * m_points_xlarge * np.conjugate(q)"
   ]
  },
  {
   "cell_type": "code",
   "execution_count": 29,
   "metadata": {
    "collapsed": true
   },
   "outputs": [],
   "source": [
    "method_2_results = q * m_points_medium * np.conjugate(q)"
   ]
  },
  {
   "cell_type": "code",
   "execution_count": 30,
   "metadata": {
    "collapsed": true
   },
   "outputs": [],
   "source": [
    "method_2_results_as_array = quaternion.as_float_array(method_2_results)[:, 1:]"
   ]
  },
  {
   "cell_type": "markdown",
   "metadata": {},
   "source": [
    "###  Quick inpection of outputs"
   ]
  },
  {
   "cell_type": "code",
   "execution_count": 31,
   "metadata": {},
   "outputs": [
    {
     "name": "stdout",
     "output_type": "stream",
     "text": [
      "Method 2 output:\n",
      "\n",
      "[[  5.30105261   4.64693202   8.85014752]\n",
      " [  1.93800933   8.92376927   7.49076213]\n",
      " [  3.5456378    2.76459557   3.26462767]\n",
      " ..., \n",
      " [  7.69454754  10.37281806   1.08887119]\n",
      " [ -0.51239285   5.90375569   8.84345615]\n",
      " [  0.81782345   8.43615258   7.43278979]]\n",
      "\n",
      "\n",
      "Method 2 output:\n",
      "\n",
      "[[  5.30105261   4.64693202   8.85014752]\n",
      " [  1.93800933   8.92376927   7.49076213]\n",
      " [  3.5456378    2.76459557   3.26462767]\n",
      " ..., \n",
      " [  7.69454754  10.37281806   1.08887119]\n",
      " [ -0.51239285   5.90375569   8.84345615]\n",
      " [  0.81782345   8.43615258   7.43278979]]\n"
     ]
    }
   ],
   "source": [
    "print('Method 2 output:\\n')\n",
    "print(method_1_results)\n",
    "print('\\n\\nMethod 2 output:\\n')\n",
    "print(method_2_results_as_array)"
   ]
  },
  {
   "cell_type": "code",
   "execution_count": 32,
   "metadata": {},
   "outputs": [
    {
     "data": {
      "text/plain": [
       "True"
      ]
     },
     "execution_count": 32,
     "metadata": {},
     "output_type": "execute_result"
    }
   ],
   "source": [
    "# compare results of both methods\n",
    "np.array_equal(method_1_results, method_2_results_as_array)"
   ]
  },
  {
   "cell_type": "markdown",
   "metadata": {},
   "source": [
    "## Summary of Results\n",
    "\n",
    "Timing rotations for different numbers of points, for the two methods:\n",
    "\n",
    "\n",
    "Timing rotations for different numbers of points, it seems the `Quaternion.rotate()` function scales linearly with number of points: $O(n)$\n",
    "\n",
    "Timings for the vectorized method seem to scale by $O(nlogn)$\n",
    "\n",
    "|# points| Method 1 (ms) | Method 2 ($\\mu$s)| speedup|\n",
    "|-|-|-|-|\n",
    "|1,000|61|35|1742x|\n",
    "|10,000|636|354|1796x|\n",
    "|20,000|1260|604|2086x|\n",
    "|1,000,000|n/a|25,700| n/a|"
   ]
  },
  {
   "cell_type": "code",
   "execution_count": 33,
   "metadata": {},
   "outputs": [
    {
     "data": {
      "text/plain": [
       "array([ 0.24177143,  0.32604605,  0.29908532,  0.35505862])"
      ]
     },
     "execution_count": 33,
     "metadata": {},
     "output_type": "execute_result"
    }
   ],
   "source": [
    "# show that method 2 scales roughly with O(nlogn)\n",
    "points = np.array([1000, 10000, 20000, 1000000])\n",
    "m2_ = np.array([35, 354, 604, 25700])    # time recorded above in microseconds\n",
    "m2_ / points*np.log(points)"
   ]
  },
  {
   "cell_type": "code",
   "execution_count": 34,
   "metadata": {},
   "outputs": [],
   "source": [
    "points = np.array([1000, 10000, 20000, 1000000])\n",
    "m1_ = np.array([61, 636, 1260, np.nan])\n",
    "m2_ms = m2_ / 1000\n",
    "import matplotlib.pyplot as plt\n",
    "#plt.plot(points, m1_)\n",
    "plt.plot(points*np.log(points), m2_);"
   ]
  },
  {
   "cell_type": "code",
   "execution_count": 35,
   "metadata": {},
   "outputs": [
    {
     "data": {
      "text/plain": [
       "array([ 1742.85714286,  1796.61016949,  2086.09271523,            nan])"
      ]
     },
     "execution_count": 35,
     "metadata": {},
     "output_type": "execute_result"
    }
   ],
   "source": [
    "# compute speedups\n",
    "m1_ / m2_ms"
   ]
  },
  {
   "cell_type": "markdown",
   "metadata": {},
   "source": [
    "##  A simple function to use on pointclouds"
   ]
  },
  {
   "cell_type": "code",
   "execution_count": 36,
   "metadata": {
    "collapsed": true
   },
   "outputs": [],
   "source": [
    "def rotate_points(pointcloud, angle, axis='z'):\n",
    "    \"\"\"Rotate a point cloud by a number of degree around the given axis\n",
    "    \n",
    "    pointcloud : a list of numpy arrays,[array(x1, y1, z1), array(x2, y2, z2), ...]\n",
    "    angle      : the desired angle of rotation in degrees\n",
    "    axis       : the fixed angle around which the pointcloud is rotated: 'x', 'y' or 'z', optional\n",
    "    \"\"\"\n",
    "    \n",
    "    #assert isinstance(pointcloud, np.ndarray), \"the pointcloud must be a numpy array\"\n",
    "    assert isinstance(angle, float) or isinstance(angle, int), \"the angle must be an integer or a float\"\n",
    "\n",
    "    # work with the angle in radians\n",
    "    angle = np.float64(angle) if isinstance(angle, int) else angle\n",
    "    angle = np.deg2rad(angle)\n",
    "    \n",
    "    # convert coordinates to quaternions\n",
    "    points = np.array([np.quaternion(*point) for point in pointcloud])\n",
    "    \n",
    "    assert isinstance(points, np.ndarray), \"the pointcloud isn't properly formed\"\n",
    "    assert isinstance(points[0], quaternion.quaternion), \"the pointcloud isn't properly formed\"\n",
    "    \n",
    "    if axis == 'z':\n",
    "        rot_axis = np.array([0.0, 0.0, 0.0, 1.0])\n",
    "    elif axis == 'x':\n",
    "        rot_axis = np.array([0.0, 1.0, 0.0, 0.0])\n",
    "    elif axis == 'y':\n",
    "        rot_axis = np.array([0.0, 0.0, 1.0, 0.0])\n",
    "    else:\n",
    "        raise ValueError('axis must be one of x, y, z')\n",
    "    \n",
    "    axis_angle = (angle * 0.5) * rot_axis/np.linalg.norm(rot_axis)\n",
    "    qlog = quaternion.quaternion(*axis_angle)\n",
    "    q = np.exp(qlog)\n",
    "    \n",
    "    return q * points * np.conjugate(q)"
   ]
  },
  {
   "cell_type": "code",
   "execution_count": 37,
   "metadata": {
    "collapsed": true
   },
   "outputs": [],
   "source": [
    "rots = rotate_points(n_points_medium, angle=10.0, axis='z')"
   ]
  },
  {
   "cell_type": "markdown",
   "metadata": {},
   "source": [
    "##  How should the steering angle be adjusted?\n",
    "\n",
    "Using small angle approximations, if we set the rotation angle to be within [-5, 5], we can use a simple linear scaling for the steering angle adjustment.\n",
    "\n",
    "The lidar's view goes from -180 to +180. The steering angles lie on the closed interval -30 to + 30.\n",
    "\n",
    "Let's assume the simple linear relationship:\n",
    "$$\n",
    "lidar\\_vector = \\beta \\cdot steering\\_angle\n",
    "$$\n",
    "\n",
    "In terms of the range of each variable, $\\beta$ hold a value of 6.\n",
    "\n",
    "$$\n",
    "steering\\_angle\\_adjustment \\approx - \\ (\\frac{1}{\\beta}\\cdot rotation\\_angle)\n",
    "$$\n",
    " \n",
    "The negative angle conveys the fact that a rotation of the point cloud to the right would require a car to turn more sharply to the left, and so a larger angle in the negative (left) direction.\n",
    "\n",
    "Given the ranges and small angle approximations (i.e. they behave nicely in the low nominal range), we can assume a value for $\\beta$ in the range of 1-10."
   ]
  },
  {
   "cell_type": "code",
   "execution_count": 38,
   "metadata": {},
   "outputs": [
    {
     "data": {
      "image/png": "[encoded data removed]",
      "text/plain": [
       "<matplotlib.figure.Figure at 0x7fd86bfd0e48>"
      ]
     },
     "metadata": {},
     "output_type": "display_data"
    }
   ],
   "source": [
    "%matplotlib inline\n",
    "\n",
    "def adj_ang(rot_ang, beta=6):\n",
    "    return -1 * rot_ang / beta\n",
    "\n",
    "x = list(range(-10, 11, 1))\n",
    "y = adj_ang(np.array(x))\n",
    "plt.plot(x, y)\n",
    "plt.xlabel('Quaternion rotation angle')\n",
    "plt.ylabel('Steering angle adjustment')\n",
    "plt.title('Linear mapping between steering angle adjustment from given rotation angle\\n');"
   ]
  }
 ],
 "metadata": {
  "kernelspec": {
   "display_name": "Python 3",
   "language": "python",
   "name": "python3"
  },
  "language_info": {
   "codemirror_mode": {
    "name": "ipython",
    "version": 3
   },
   "file_extension": ".py",
   "mimetype": "text/x-python",
   "name": "python",
   "nbconvert_exporter": "python",
   "pygments_lexer": "ipython3",
   "version": "3.5.2"
  },
  "widgets": {
   "state": {},
   "version": "1.1.2"
  }
 },
 "nbformat": 4,
 "nbformat_minor": 2
}
